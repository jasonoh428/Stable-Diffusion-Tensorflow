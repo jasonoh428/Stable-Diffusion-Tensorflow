{
 "cells": [
  {
   "cell_type": "code",
   "execution_count": 1,
   "id": "1190a76d",
   "metadata": {},
   "outputs": [
    {
     "name": "stdout",
     "output_type": "stream",
     "text": [
      "Init Plugin\n",
      "Init Graph Optimizer\n",
      "Init Kernel\n"
     ]
    }
   ],
   "source": [
    "import tensorflow as tf\n",
    "import numpy as np\n",
    "import torch\n",
    "\n",
    "import math \n",
    "import os"
   ]
  },
  {
   "cell_type": "code",
   "execution_count": 2,
   "id": "09045356",
   "metadata": {},
   "outputs": [],
   "source": [
    "%matplotlib inline\n",
    "\n",
    "import matplotlib\n",
    "import numpy as np\n",
    "import matplotlib.pyplot as plt"
   ]
  },
  {
   "cell_type": "code",
   "execution_count": 3,
   "id": "8c629384",
   "metadata": {
    "scrolled": true
   },
   "outputs": [
    {
     "name": "stderr",
     "output_type": "stream",
     "text": [
      "/Users/divamgupta/miniforge3/lib/python3.9/site-packages/tensorflow_addons/utils/ensure_tf_install.py:53: UserWarning: Tensorflow Addons supports using Python ops for all Tensorflow versions above or equal to 2.7.0 and strictly below 2.10.0 (nightly versions are not supported). \n",
      " The versions of TensorFlow you are currently using is 2.6.0 and is not supported. \n",
      "Some things might work, some things might not.\n",
      "If you were to encounter a bug, do not file an issue.\n",
      "If you want to make sure you're using a tested and supported configuration, either change the TensorFlow version or the TensorFlow Addons's version. \n",
      "You can find the compatibility matrix in TensorFlow Addon's readme:\n",
      "https://github.com/tensorflow/addons\n",
      "  warnings.warn(\n"
     ]
    }
   ],
   "source": [
    "import tensorflow_addons as tfa\n"
   ]
  },
  {
   "cell_type": "code",
   "execution_count": null,
   "id": "551a0e05",
   "metadata": {},
   "outputs": [],
   "source": []
  },
  {
   "cell_type": "code",
   "execution_count": 4,
   "id": "25b81e89",
   "metadata": {},
   "outputs": [],
   "source": [
    "FILENAME = \"/Users/divamgupta/Downloads/sd-v1-4.ckpt\"\n",
    "weights = torch.load(FILENAME)"
   ]
  },
  {
   "cell_type": "code",
   "execution_count": null,
   "id": "42975c33",
   "metadata": {},
   "outputs": [],
   "source": []
  },
  {
   "cell_type": "code",
   "execution_count": null,
   "id": "2fdcfe62",
   "metadata": {},
   "outputs": [],
   "source": []
  },
  {
   "cell_type": "code",
   "execution_count": null,
   "id": "5ac477b8",
   "metadata": {},
   "outputs": [],
   "source": []
  },
  {
   "cell_type": "code",
   "execution_count": 5,
   "id": "72f92611",
   "metadata": {},
   "outputs": [],
   "source": [
    "def quick_gelu(x):\n",
    "    return x * tf.sigmoid(x * 1.702) \n"
   ]
  },
  {
   "cell_type": "code",
   "execution_count": 6,
   "id": "ce7eb2b1",
   "metadata": {},
   "outputs": [],
   "source": [
    " \n",
    "class CLIPAttention(tf.keras.layers.Layer):\n",
    "    def __init__(self, tname):\n",
    "        super(CLIPAttention, self).__init__()\n",
    "        self.embed_dim = 768\n",
    "        self.num_heads = 12\n",
    "        self.head_dim = self.embed_dim // self.num_heads\n",
    "        self.scale = self.head_dim**-0.5\n",
    "        self.k_proj = tf.keras.layers.Dense(self.embed_dim  , activation=None , weights=[weights['state_dict'][tname+\".k_proj.weight\"].T  , weights['state_dict'][tname+\".k_proj.bias\"]] )\n",
    "        self.v_proj = tf.keras.layers.Dense(self.embed_dim , activation=None  , weights=[weights['state_dict'][tname+\".v_proj.weight\"].T  , weights['state_dict'][tname+\".v_proj.bias\"]])\n",
    "        self.q_proj = tf.keras.layers.Dense(self.embed_dim , activation=None  , weights=[weights['state_dict'][tname+\".q_proj.weight\"].T  , weights['state_dict'][tname+\".q_proj.bias\"]])\n",
    "        self.out_proj = tf.keras.layers.Dense(self.embed_dim , activation=None  , weights=[weights['state_dict'][tname+\".out_proj.weight\"].T  , weights['state_dict'][tname+\".out_proj.bias\"]])\n",
    "\n",
    "    def _shape(self, tensor, seq_len: int, bsz: int):\n",
    "        a = tf.reshape(tensor , (bsz, seq_len, self.num_heads, self.head_dim))\n",
    "        return tf.keras.layers.Permute( (2,1,3) )(a) # bs , n_head , seq_len , head_dim\n",
    "    \n",
    "    def call(self, inputs ):\n",
    "        [hidden_states, causal_attention_mask] = inputs\n",
    "        bsz, tgt_len, embed_dim = hidden_states.shape\n",
    "        query_states = self.q_proj(hidden_states) * self.scale\n",
    "        key_states = self._shape(self.k_proj(hidden_states), tgt_len, -1)\n",
    "        value_states = self._shape(self.v_proj(hidden_states), tgt_len, -1)\n",
    "        \n",
    "        proj_shape = (-1 , tgt_len, self.head_dim)\n",
    "        query_states = self._shape(query_states, tgt_len, -1)\n",
    "        query_states = tf.reshape(query_states , proj_shape)\n",
    "        key_states = tf.reshape(key_states , proj_shape)\n",
    "                \n",
    "        src_len = tgt_len\n",
    "        value_states = tf.reshape(value_states , proj_shape)\n",
    "        attn_weights = query_states @ tf.keras.layers.Permute((2,1))(key_states) \n",
    "        \n",
    "        attn_weights = tf.reshape(attn_weights , (-1, self.num_heads, tgt_len, src_len))\n",
    "        attn_weights = attn_weights + causal_attention_mask\n",
    "        attn_weights = tf.reshape(attn_weights , (-1, tgt_len, src_len))\n",
    "        \n",
    "        attn_weights = tf.nn.softmax(attn_weights)\n",
    "        attn_output = attn_weights @ value_states\n",
    "        \n",
    "        attn_output = tf.reshape(attn_output , (-1, self.num_heads, tgt_len, self.head_dim))\n",
    "        attn_output = tf.keras.layers.Permute((2,1,3))(attn_output)\n",
    "        attn_output = tf.reshape(attn_output , (-1, tgt_len, embed_dim))\n",
    "\n",
    "        attn_output = self.out_proj(attn_output)\n",
    "        return attn_output\n"
   ]
  },
  {
   "cell_type": "code",
   "execution_count": 7,
   "id": "82bec30f",
   "metadata": {},
   "outputs": [],
   "source": [
    "\n",
    "\n",
    "class CLIPMLP:\n",
    "    def __init__(self, tname):\n",
    "        super(CLIPMLP, self).__init__()\n",
    "        self.fc1 = tf.keras.layers.Dense( 3072, weights=[weights['state_dict'][tname+\".fc1.weight\"].T  , weights['state_dict'][tname+\".fc1.bias\"]])\n",
    "        self.fc2 = tf.keras.layers.Dense(  768, weights=[weights['state_dict'][tname+\".fc2.weight\"].T  , weights['state_dict'][tname+\".fc2.bias\"]])\n",
    "\n",
    "    def __call__(self, hidden_states):\n",
    "        hidden_states = self.fc1(hidden_states)\n",
    "        hidden_states = quick_gelu(hidden_states )\n",
    "        hidden_states = self.fc2(hidden_states)\n",
    "        return hidden_states\n"
   ]
  },
  {
   "cell_type": "code",
   "execution_count": 8,
   "id": "99437cb8",
   "metadata": {},
   "outputs": [],
   "source": [
    "class CLIPEncoderLayer:\n",
    "    def __init__(self, tname):\n",
    "        super(CLIPEncoderLayer, self).__init__()\n",
    "        self.self_attn = CLIPAttention(tname+\".self_attn\")\n",
    "        self.layer_norm1 = tf.keras.layers.LayerNormalization( epsilon=1e-5 , weights=[ weights['state_dict'][tname+\".layer_norm1.weight\"] , weights['state_dict'][tname+\".layer_norm1.bias\"] ])\n",
    "        self.mlp = CLIPMLP(tname+\".mlp\")\n",
    "        self.layer_norm2 = tf.keras.layers.LayerNormalization( epsilon=1e-5 , weights=[ weights['state_dict'][tname+\".layer_norm2.weight\"] , weights['state_dict'][tname+\".layer_norm2.bias\"] ])\n",
    "\n",
    "    def __call__(self, inputs):\n",
    "        [hidden_states, causal_attention_mask] = inputs\n",
    "        residual = hidden_states\n",
    "    \n",
    "        hidden_states = self.layer_norm1(hidden_states)\n",
    "        hidden_states = self.self_attn([hidden_states, causal_attention_mask])\n",
    "        hidden_states = residual + hidden_states\n",
    "        \n",
    "        \n",
    "\n",
    "        residual = hidden_states\n",
    "        hidden_states = self.layer_norm2(hidden_states)\n",
    "        hidden_states = self.mlp(hidden_states)\n",
    "        \n",
    "        hidden_states = residual + hidden_states\n",
    "        \n",
    "        \n",
    "\n",
    "        return hidden_states\n"
   ]
  },
  {
   "cell_type": "code",
   "execution_count": 9,
   "id": "ad2012e3",
   "metadata": {},
   "outputs": [],
   "source": [
    "class CLIPEncoder:\n",
    "    def __init__(self, tname):\n",
    "        super(CLIPEncoder, self).__init__()\n",
    "        self.layers = [CLIPEncoderLayer(tname + \".layers.%d\"%i) for i in range(12)]\n",
    "  \n",
    "    def __call__(self, inputs):\n",
    "        [hidden_states, causal_attention_mask] = inputs\n",
    "        for i,l in enumerate(self.layers):\n",
    "            hidden_states = l([hidden_states, causal_attention_mask])\n",
    "        return hidden_states\n"
   ]
  },
  {
   "cell_type": "code",
   "execution_count": 10,
   "id": "49911587",
   "metadata": {},
   "outputs": [],
   "source": [
    "class CLIPTextEmbeddings:\n",
    "    def __init__(self, tname , n_words=77):\n",
    "        super(CLIPTextEmbeddings, self).__init__()\n",
    "        \n",
    "        token_emb_W = weights['state_dict'][tname + '.token_embedding.weight']\n",
    "\n",
    "\n",
    "        self.token_embedding_layer = tf.keras.layers.Embedding( 49408, 768 , name=\"token_embedding\" , weights=[token_emb_W])\n",
    "\n",
    "        pos_emb_W = weights['state_dict'][tname + '.position_embedding.weight']\n",
    "\n",
    "\n",
    "        self.position_embedding_layer = tf.keras.layers.Embedding( n_words, 768, name=\"position_embedding\", weights=[pos_emb_W])\n",
    "\n",
    "\n",
    "    def __call__(self, inputs):\n",
    "        [input_ids, position_ids] = inputs\n",
    "        word_embeddings = self.token_embedding_layer(input_ids)\n",
    "        position_embeddings = self.position_embedding_layer(position_ids)\n",
    "        return  word_embeddings + position_embeddings\n",
    "          "
   ]
  },
  {
   "cell_type": "code",
   "execution_count": 11,
   "id": "22bc7cf1",
   "metadata": {},
   "outputs": [],
   "source": [
    "class CLIPTextTransformer:\n",
    "    def __init__(self, tname , n_words=77):\n",
    "        super(CLIPTextTransformer, self).__init__()\n",
    "        self.embeddings = CLIPTextEmbeddings(tname+\".embeddings\" , n_words=n_words)\n",
    "        self.encoder = CLIPEncoder(tname + \".encoder\")\n",
    "        self.final_layer_norm = tf.keras.layers.LayerNormalization( epsilon=1e-5 , weights=[ weights['state_dict'][tname+\".final_layer_norm.weight\"] , weights['state_dict'][tname+\".final_layer_norm.bias\"] ])\n",
    "    \n",
    "        self.inp_position_ids = tf.constant(np.array(list(range(n_words)))[None].astype('int32'))\n",
    "        self.causal_attention_mask = tf.constant(np.triu(np.ones((1,1,77,77), dtype=np.float32) * -np.inf, k=1))\n",
    "        \n",
    "    def __call__(self, input_ids):\n",
    "        x = self.embeddings([input_ids,  self.inp_position_ids ])\n",
    "        x = self.encoder([x, self.causal_attention_mask] )\n",
    "        return self.final_layer_norm(x)\n"
   ]
  },
  {
   "cell_type": "code",
   "execution_count": null,
   "id": "ffe09a0a",
   "metadata": {},
   "outputs": [],
   "source": []
  },
  {
   "cell_type": "code",
   "execution_count": 12,
   "id": "5fad6082",
   "metadata": {},
   "outputs": [],
   "source": [
    "def get_conv2d(tname , in_channels, out_channels, kernel_size ,padding=0 ,stride=1):\n",
    "    \n",
    "    W =  weights['state_dict'][tname + '.weight'].numpy()\n",
    "    W = np.transpose(W , (2,3,1,0))\n",
    "    assert in_channels == W.shape[-2]\n",
    "    assert out_channels == W.shape[-1]\n",
    "    b =  weights['state_dict'][tname + '.bias']\n",
    "    \n",
    "    r =  tf.keras.models.Sequential([\n",
    "        \n",
    "        tf.keras.layers.ZeroPadding2D(\n",
    "            padding=(padding, padding), data_format=None \n",
    "        ) , \n",
    "        \n",
    "        \n",
    "        tf.keras.layers.Conv2D(\n",
    "            out_channels,\n",
    "            kernel_size,\n",
    "            strides=(stride, stride ) , weights=[W,b] ) \n",
    "    ])\n",
    "    return r\n",
    "    \n",
    "\n",
    "    "
   ]
  },
  {
   "cell_type": "code",
   "execution_count": 13,
   "id": "2e52b28f",
   "metadata": {},
   "outputs": [],
   "source": [
    "def apply_seq(x , layers):\n",
    "    for l in layers:\n",
    "        x = l(x)\n",
    "    return x"
   ]
  },
  {
   "cell_type": "code",
   "execution_count": 14,
   "id": "af24d9fc",
   "metadata": {},
   "outputs": [],
   "source": [
    "# not to be confused with ResnetBlock\n",
    "class ResBlock:\n",
    "  def __init__(self, tname, channels, emb_channels, out_channels):\n",
    "    super(ResBlock, self).__init__()\n",
    "    self.in_layers = [\n",
    "      tfa.layers.GroupNormalization(epsilon=1e-5 , weights=[\n",
    "        weights['state_dict'][tname+\".in_layers.0.weight\"],\n",
    "        weights['state_dict'][tname+\".in_layers.0.bias\"]\n",
    "      ]),\n",
    "      tf.keras.activations.swish,\n",
    "      get_conv2d(tname+\".in_layers.2\" , channels, out_channels, 3, padding=1)\n",
    "    ]\n",
    "    self.emb_layers = [\n",
    "      tf.keras.activations.swish,\n",
    "      tf.keras.layers.Dense( out_channels, weights=[weights['state_dict'][tname+\".emb_layers.1.weight\"].T  , weights['state_dict'][tname+\".emb_layers.1.bias\"]])\n",
    "    ]\n",
    "    self.out_layers = [\n",
    "      tfa.layers.GroupNormalization(epsilon=1e-5 , weights=[\n",
    "        weights['state_dict'][tname+\".out_layers.0.weight\"],\n",
    "        weights['state_dict'][tname+\".out_layers.0.bias\"]\n",
    "      ]),\n",
    "      tf.keras.activations.swish,\n",
    "      lambda x: x,\n",
    "      get_conv2d(tname+\".out_layers.3\" ,out_channels, out_channels, 3, padding=1)\n",
    "    ]\n",
    "    self.skip_connection = get_conv2d(tname+\".skip_connection\" , channels, out_channels, 1) if channels != out_channels else lambda x: x\n",
    "\n",
    "  def __call__(self,inputs ):\n",
    "    x, emb = inputs\n",
    "    h = apply_seq(x , self.in_layers)\n",
    "    emb_out = apply_seq(emb, self.emb_layers)\n",
    "    h = h + emb_out[:, None , None]\n",
    "    h = apply_seq(h , self.out_layers)\n",
    "    ret = self.skip_connection(x) + h\n",
    "    return ret"
   ]
  },
  {
   "cell_type": "code",
   "execution_count": 15,
   "id": "7f64480d",
   "metadata": {},
   "outputs": [],
   "source": [
    "\n",
    "def timestep_embedding(timesteps, dim, max_period=10000):\n",
    "    half = dim // 2\n",
    "    freqs = np.exp(-math.log(max_period) * np.arange(0, half, dtype=np.float32) / half)\n",
    "    args = timesteps.numpy() * freqs\n",
    "    embedding = np.concatenate([np.cos(args), np.sin(args)])\n",
    "    return Tensor(embedding).reshape(1, -1)\n"
   ]
  },
  {
   "cell_type": "code",
   "execution_count": 16,
   "id": "7ed9c0f9",
   "metadata": {},
   "outputs": [],
   "source": [
    "def td_dot(a , b ):\n",
    "    assert len(a.shape) == 4\n",
    "    assert len(a.shape) == 4\n",
    "    assert a.shape[0] == b.shape[0]\n",
    "    assert b.shape[1] == a.shape[1]\n",
    "    aa = tf.reshape(a , (-1 , a.shape[2] , a.shape[3]))\n",
    "    bb = tf.reshape(b , (-1 , b.shape[2] , b.shape[3]))\n",
    "    cc = tf.keras.backend.batch_dot(aa , bb )\n",
    "    c = tf.reshape(cc , (-1 , a.shape[1] , cc.shape[1] , cc.shape[2]))\n",
    "    return c "
   ]
  },
  {
   "cell_type": "code",
   "execution_count": 17,
   "id": "22d9ffe2",
   "metadata": {},
   "outputs": [],
   "source": [
    "class CrossAttention:\n",
    "  def __init__(self, tname, query_dim, context_dim, n_heads, d_head):\n",
    "    super(CrossAttention, self).__init__()\n",
    "    self.to_q = tf.keras.layers.Dense( n_heads*d_head,use_bias=False ,weights=[weights['state_dict'][tname+\".to_q.weight\"].T  ])\n",
    "    self.to_k = tf.keras.layers.Dense( n_heads*d_head,use_bias=False ,weights=[weights['state_dict'][tname+\".to_k.weight\"].T  ])\n",
    "    self.to_v = tf.keras.layers.Dense( n_heads*d_head,use_bias=False ,weights=[weights['state_dict'][tname+\".to_v.weight\"].T  ])\n",
    "    self.scale = d_head ** -0.5\n",
    "    self.num_heads = n_heads\n",
    "    self.head_size = d_head\n",
    "    self.to_out = [tf.keras.layers.Dense( n_heads*d_head ,weights=[weights['state_dict'][tname+\".to_out.0.weight\"].T , weights['state_dict'][tname+\".to_out.0.bias\"] ])]\n",
    "\n",
    "  def __call__(self, inputs):\n",
    "    assert type(inputs) is list\n",
    "    if len(inputs) == 1:\n",
    "        inputs = inputs + [None]\n",
    "    [x , context] = inputs\n",
    "    context = x if context is None else context\n",
    "    q,k,v = self.to_q(x), self.to_k(context), self.to_v(context)\n",
    "    assert len(x.shape) == 3\n",
    "    q = tf.reshape(q , ( -1 , x.shape[1], self.num_heads, self.head_size) )\n",
    "    k = tf.reshape(k , ( -1 , context.shape[1] , self.num_heads, self.head_size) )\n",
    "    v = tf.reshape(v, ( -1 , context.shape[1] , self.num_heads, self.head_size) )\n",
    "    \n",
    "    q = tf.keras.layers.Permute((2,1,3))(q)  # (bs, num_heads, time, head_size)\n",
    "    k = tf.keras.layers.Permute((2,3,1))(k)  # (bs, num_heads, head_size, time)\n",
    "    v = tf.keras.layers.Permute((2,1,3))(v)# (bs, num_heads, time, head_size)\n",
    "    \n",
    "    score = td_dot(q,k) * self.scale\n",
    "    weights = tf.keras.activations.softmax(score)                   # (bs, num_heads, time, time)\n",
    "    attention = td_dot(weights,v)  \n",
    "    attention = tf.keras.layers.Permute((2,1,3))(attention) # (bs, time, num_heads, head_size)\n",
    "\n",
    "    h_ = tf.reshape(attention, (-1 ,x.shape[1] , self.num_heads * self.head_size))\n",
    "    return apply_seq(h_ , self.to_out)\n"
   ]
  },
  {
   "cell_type": "code",
   "execution_count": 18,
   "id": "e29258b8",
   "metadata": {},
   "outputs": [],
   "source": [
    "\n",
    "def gelu(self):\n",
    "    return 0.5 * self * (1 + tf.keras.activations.tanh(self * 0.7978845608 * (1 + 0.044715 * self * self)))\n"
   ]
  },
  {
   "cell_type": "code",
   "execution_count": 19,
   "id": "93f9beb0",
   "metadata": {},
   "outputs": [],
   "source": [
    "class GEGLU:\n",
    "  def __init__(self, tname, dim_in, dim_out):\n",
    "    super(GEGLU, self).__init__()\n",
    "    \n",
    "    self.proj = tf.keras.layers.Dense( dim_out * 2 ,weights=[weights['state_dict'][tname+\".proj.weight\"].T , weights['state_dict'][tname+\".proj.bias\"] ])\n",
    "    self.dim_out = dim_out\n",
    "\n",
    "  def __call__(self, x):\n",
    "    xp = self.proj(x)\n",
    "    x, gate = xp[... , :self.dim_out ] , xp[..., self.dim_out:]\n",
    "    ans = x * gelu(gate)\n",
    "    \n",
    "    return ans\n"
   ]
  },
  {
   "cell_type": "code",
   "execution_count": 20,
   "id": "53c692a3",
   "metadata": {},
   "outputs": [],
   "source": [
    "class FeedForward:\n",
    "  def __init__(self, tname , dim, mult=4):\n",
    "    super(FeedForward, self).__init__()\n",
    "    self.net = [\n",
    "      GEGLU(tname + \".net.0\" , dim, dim*mult),\n",
    "      lambda x: x,\n",
    "      tf.keras.layers.Dense( dim ,weights=[weights['state_dict'][tname+\".net.2.weight\"].T , weights['state_dict'][tname+\".net.2.bias\"] ])\n",
    "    ]\n",
    "\n",
    "  def __call__(self, x):\n",
    "    return apply_seq(x, self.net)"
   ]
  },
  {
   "cell_type": "code",
   "execution_count": 21,
   "id": "13237bd7",
   "metadata": {},
   "outputs": [],
   "source": [
    "class BasicTransformerBlock:\n",
    "  def __init__(self, tname, dim, context_dim, n_heads, d_head):\n",
    "    super(BasicTransformerBlock, self).__init__()\n",
    "    self.attn1 = CrossAttention(tname+\".attn1\" , dim, dim, n_heads, d_head)\n",
    "    self.ff = FeedForward(tname+\".ff\" ,  dim)\n",
    "    self.attn2 = CrossAttention(tname+\".attn2\" ,dim, context_dim, n_heads, d_head)\n",
    "    self.norm1 = tf.keras.layers.LayerNormalization( epsilon=1e-5 , weights=[ weights['state_dict'][tname+\".norm1.weight\"] , weights['state_dict'][tname+\".norm1.bias\"] ])\n",
    "    self.norm2 = tf.keras.layers.LayerNormalization( epsilon=1e-5 , weights=[ weights['state_dict'][tname+\".norm2.weight\"] , weights['state_dict'][tname+\".norm2.bias\"] ])\n",
    "    self.norm3 = tf.keras.layers.LayerNormalization( epsilon=1e-5 , weights=[ weights['state_dict'][tname+\".norm3.weight\"] , weights['state_dict'][tname+\".norm3.bias\"] ])\n",
    "\n",
    "  def __call__(self, inputs):\n",
    "    [x, context] = inputs\n",
    "    \n",
    "    x = self.attn1([self.norm1(x)]) + x\n",
    "    x = self.attn2([self.norm2(x), context]) + x\n",
    "    x = self.ff(self.norm3(x)) + x\n",
    "    return x"
   ]
  },
  {
   "cell_type": "code",
   "execution_count": null,
   "id": "952d4e05",
   "metadata": {},
   "outputs": [],
   "source": []
  },
  {
   "cell_type": "code",
   "execution_count": 22,
   "id": "5b2cebc5",
   "metadata": {},
   "outputs": [],
   "source": [
    "class SpatialTransformer:\n",
    "  def __init__(self, tname , channels, context_dim, n_heads, d_head):\n",
    "    super(SpatialTransformer, self).__init__()\n",
    "    self.norm = tfa.layers.GroupNormalization(epsilon=1e-5 , weights=[\n",
    "        weights['state_dict'][tname+\".norm.weight\"],\n",
    "        weights['state_dict'][tname+\".norm.bias\"]\n",
    "      ])\n",
    "    \n",
    "    assert channels == n_heads * d_head\n",
    "    self.proj_in = get_conv2d(tname+\".proj_in\", channels, n_heads * d_head, 1)\n",
    "    self.transformer_blocks = [BasicTransformerBlock(tname + \".transformer_blocks.0\",  channels, context_dim, n_heads, d_head)]\n",
    "    self.proj_out = get_conv2d(tname+\".proj_out\" , n_heads * d_head, channels, 1)\n",
    "\n",
    "  def __call__(self, inputs):\n",
    "    [x , context] = inputs\n",
    "    b, h, w , c  = x.shape\n",
    "    x_in = x\n",
    "    x = self.norm(x)\n",
    "    x = self.proj_in(x)\n",
    "    x = tf.reshape(x , (-1,   h*w , c) ) \n",
    "    for block in self.transformer_blocks:\n",
    "      x = block([x, context])\n",
    "    x = tf.reshape(x , (-1 , h, w , c) )\n",
    "    ret = self.proj_out(x) + x_in\n",
    "    return ret"
   ]
  },
  {
   "cell_type": "code",
   "execution_count": 23,
   "id": "a9f342ea",
   "metadata": {},
   "outputs": [],
   "source": [
    "class Downsample:\n",
    "  def __init__(self, tname , channels):\n",
    "    super(Downsample, self).__init__()\n",
    "    self.op = get_conv2d(tname + \".op\" , channels, channels, 3, stride=2, padding=1)\n",
    "\n",
    "  def __call__(self, x):\n",
    "    return self.op(x)\n"
   ]
  },
  {
   "cell_type": "code",
   "execution_count": 24,
   "id": "cfcad35d",
   "metadata": {},
   "outputs": [],
   "source": [
    "class Upsample:\n",
    "  def __init__(self, tname , channels):\n",
    "    self.conv = get_conv2d(tname + \".conv\" ,channels, channels, 3, padding=1)\n",
    "    self.ups = tf.keras.layers.UpSampling2D(size=(2, 2))\n",
    "\n",
    "  def __call__(self, x):\n",
    "    x = self.ups(x)\n",
    "    return self.conv(x)\n"
   ]
  },
  {
   "cell_type": "code",
   "execution_count": null,
   "id": "a124154e",
   "metadata": {},
   "outputs": [],
   "source": []
  },
  {
   "cell_type": "code",
   "execution_count": 25,
   "id": "a8717414",
   "metadata": {},
   "outputs": [],
   "source": [
    "class UNetModel:\n",
    "  def __init__(self, tname):\n",
    "    super(UNetModel, self).__init__()\n",
    "    self.time_embed = [\n",
    "       tf.keras.layers.Dense( 1280, weights=[weights['state_dict'][tname+\".time_embed.0.weight\"].T  , weights['state_dict'][tname+\".time_embed.0.bias\"]]),\n",
    "       tf.keras.activations.swish,\n",
    "       tf.keras.layers.Dense( 1280, weights=[weights['state_dict'][tname+\".time_embed.2.weight\"].T  , weights['state_dict'][tname+\".time_embed.2.bias\"]]),\n",
    "     ]\n",
    "\n",
    "    self.input_blocks = [\n",
    "      [get_conv2d( tname+\".input_blocks.0.0\",  4, 320, kernel_size=3, padding=1)],\n",
    "      [ResBlock(tname+\".input_blocks.1.0\", 320, 1280, 320) ,   SpatialTransformer(tname+\".input_blocks.1.1\" , 320, 768, 8, 40)],\n",
    "      [ResBlock(tname+\".input_blocks.2.0\" , 320, 1280, 320), SpatialTransformer(tname+\".input_blocks.2.1\" ,320, 768, 8, 40)],\n",
    "      [Downsample(tname+\".input_blocks.3.0\" ,320)],\n",
    "      [ResBlock(tname+\".input_blocks.4.0\",320, 1280, 640), SpatialTransformer(tname+\".input_blocks.4.1\" ,640, 768, 8, 80)],\n",
    "      [ResBlock(tname+\".input_blocks.5.0\",640, 1280, 640), SpatialTransformer(tname+\".input_blocks.5.1\",640, 768, 8, 80)],\n",
    "      [Downsample(tname+\".input_blocks.6.0\",640)],\n",
    "      [ResBlock(tname+\".input_blocks.7.0\",640, 1280, 1280), SpatialTransformer(tname+\".input_blocks.7.1\",1280, 768, 8, 160)],\n",
    "      [ResBlock(tname+\".input_blocks.8.0\",1280, 1280, 1280), SpatialTransformer(tname+\".input_blocks.8.1\",1280, 768, 8, 160)],\n",
    "      [Downsample(tname+\".input_blocks.9.0\",1280)],\n",
    "      [ResBlock(tname+\".input_blocks.10.0\",1280, 1280, 1280)],\n",
    "      [ResBlock(tname+\".input_blocks.11.0\",1280, 1280, 1280)]\n",
    "    ]\n",
    "    self.middle_block = [\n",
    "      ResBlock(tname+\".middle_block.0\",1280, 1280, 1280),\n",
    "      SpatialTransformer(tname+\".middle_block.1\",1280, 768, 8, 160),\n",
    "      ResBlock(tname+\".middle_block.2\",1280, 1280, 1280)\n",
    "    ]\n",
    "    self.output_blocks = [\n",
    "      [ResBlock(tname+\".output_blocks.0.0\", 2560, 1280, 1280)],\n",
    "      [ResBlock(tname+\".output_blocks.1.0\",2560, 1280, 1280)],\n",
    "      [ResBlock(tname+\".output_blocks.2.0\",2560, 1280, 1280), Upsample(tname+\".output_blocks.2.1\",1280)],\n",
    "      [ResBlock(tname+\".output_blocks.3.0\",2560, 1280, 1280), SpatialTransformer(tname+\".output_blocks.3.1\",1280, 768, 8, 160)],\n",
    "      [ResBlock(tname+\".output_blocks.4.0\",2560, 1280, 1280), SpatialTransformer(tname+\".output_blocks.4.1\",1280, 768, 8, 160)],\n",
    "      [ResBlock(tname+\".output_blocks.5.0\",1920, 1280, 1280), SpatialTransformer(tname+\".output_blocks.5.1\",1280, 768, 8, 160), Upsample(tname+\".output_blocks.5.2\",1280)],\n",
    "      [ResBlock(tname+\".output_blocks.6.0\",1920, 1280, 640), SpatialTransformer(tname+\".output_blocks.6.1\",640, 768, 8, 80)],  # 6\n",
    "      [ResBlock(tname+\".output_blocks.7.0\",1280, 1280, 640), SpatialTransformer(tname+\".output_blocks.7.1\",640, 768, 8, 80)],\n",
    "      [ResBlock(tname+\".output_blocks.8.0\",960, 1280, 640), SpatialTransformer(tname+\".output_blocks.8.1\",640, 768, 8, 80), Upsample(tname+\".output_blocks.8.2\",640)],\n",
    "      [ResBlock(tname+\".output_blocks.9.0\",960, 1280, 320), SpatialTransformer(tname+\".output_blocks.9.1\",320, 768, 8, 40)],\n",
    "      [ResBlock(tname+\".output_blocks.10.0\",640, 1280, 320), SpatialTransformer(tname+\".output_blocks.10.1\",320, 768, 8, 40)],\n",
    "      [ResBlock(tname+\".output_blocks.11.0\",640, 1280, 320), SpatialTransformer(tname+\".output_blocks.11.1\",320, 768, 8, 40)],\n",
    "    ]\n",
    "    self.out = [\n",
    "      tfa.layers.GroupNormalization(epsilon=1e-5 , weights=[\n",
    "        weights['state_dict'][tname+\".out.0.weight\"],\n",
    "        weights['state_dict'][tname+\".out.0.bias\"]\n",
    "      ]),\n",
    "        \n",
    "      tf.keras.activations.swish,\n",
    "      get_conv2d(tname+\".out.2\", 320, 4, kernel_size=3, padding=1)\n",
    "    ]\n",
    "\n",
    "  def __call__(self, inputs):\n",
    "    # TODO: real time embedding\n",
    "    [x,t_emb,context] = inputs\n",
    "    emb = apply_seq(t_emb, self.time_embed)\n",
    "\n",
    "    def run(x, bb):\n",
    "      if isinstance(bb, ResBlock): x = bb([x, emb])\n",
    "      elif isinstance(bb, SpatialTransformer): x = bb([x, context])\n",
    "      else: x = bb(x)\n",
    "      return x\n",
    "\n",
    "    saved_inputs = []\n",
    "    for i,b in enumerate(self.input_blocks):\n",
    "      for bb in b:\n",
    "        inppp = x\n",
    "        x = run(x, bb)\n",
    "      saved_inputs.append(x)\n",
    "    \n",
    "    for bb in self.middle_block:\n",
    "      x = run(x, bb)\n",
    "\n",
    "    for i,b in enumerate(self.output_blocks):\n",
    "      x = tf.concat([x , saved_inputs.pop()] , axis=-1) \n",
    "      for bb in b:\n",
    "        x = run(x, bb)\n",
    "    return apply_seq(x , self.out)\n",
    "\n"
   ]
  },
  {
   "cell_type": "code",
   "execution_count": null,
   "id": "5da68cc8",
   "metadata": {},
   "outputs": [],
   "source": []
  },
  {
   "cell_type": "code",
   "execution_count": null,
   "id": "bc23093b",
   "metadata": {},
   "outputs": [],
   "source": []
  },
  {
   "cell_type": "code",
   "execution_count": 26,
   "id": "57f7ffc5",
   "metadata": {},
   "outputs": [],
   "source": [
    "class AttnBlock:\n",
    "  def __init__(self, tname , in_channels):\n",
    "    super(AttnBlock, self).__init__()\n",
    "    self.norm = tfa.layers.GroupNormalization(epsilon=1e-5 , weights=[\n",
    "        weights['state_dict'][tname+\".norm.weight\"],\n",
    "        weights['state_dict'][tname+\".norm.bias\"]\n",
    "      ])\n",
    "    self.q = get_conv2d(tname+\".q\" , in_channels, in_channels, 1)\n",
    "    self.k = get_conv2d(tname+\".k\" , in_channels, in_channels, 1)\n",
    "    self.v = get_conv2d(tname+\".v\" , in_channels, in_channels, 1)\n",
    "    self.proj_out = get_conv2d(tname+\".proj_out\" ,in_channels, in_channels, 1)\n",
    "\n",
    "  # copied from AttnBlock in ldm repo\n",
    "  def __call__(self, x):\n",
    "    h_ = self.norm(x)\n",
    "    q,k,v = self.q(h_), self.k(h_), self.v(h_)\n",
    "\n",
    "    # compute attention\n",
    "    b, h,w, c = q.shape\n",
    "    q = tf.reshape(q , (-1 ,h*w , c ))# b,hw,c\n",
    "    k = tf.keras.layers.Permute((3,1,2))(k)\n",
    "    k = tf.reshape(k , (-1,c,h*w)) # b,c,hw\n",
    "    w_ = q @ k\n",
    "    w_ = w_ * (c**(-0.5))\n",
    "    w_ = tf.keras.activations.softmax (w_)\n",
    "    \n",
    "\n",
    "\n",
    "    # attend to values\n",
    "    v = tf.keras.layers.Permute((3,1,2))(v)\n",
    "    v = tf.reshape(v , (-1,c,h*w))\n",
    "    w_ = tf.keras.layers.Permute((2,1))( w_)\n",
    "    h_ = v @ w_\n",
    "    h_ = tf.keras.layers.Permute((2,1))(h_)\n",
    "    h_ = tf.reshape(h_, (-1,h,w,c))\n",
    "    return x + self.proj_out(h_)"
   ]
  },
  {
   "cell_type": "code",
   "execution_count": 27,
   "id": "366bd23a",
   "metadata": {},
   "outputs": [],
   "source": [
    "class ResnetBlock:\n",
    "  def __init__(self, tname ,  in_channels, out_channels=None):\n",
    "    super(ResnetBlock, self).__init__()\n",
    "    self.norm1 = tfa.layers.GroupNormalization(epsilon=1e-5 , weights=[\n",
    "        weights['state_dict'][tname+\".norm1.weight\"],\n",
    "        weights['state_dict'][tname+\".norm1.bias\"]\n",
    "      ])\n",
    "    self.conv1 = get_conv2d(tname+\".conv1\", in_channels, out_channels, 3, padding=1)\n",
    "    self.norm2 = tfa.layers.GroupNormalization(epsilon=1e-5 , weights=[\n",
    "        weights['state_dict'][tname+\".norm2.weight\"],\n",
    "        weights['state_dict'][tname+\".norm2.bias\"]\n",
    "      ])\n",
    "    self.conv2 = get_conv2d(tname+\".conv2\",out_channels, out_channels, 3, padding=1)\n",
    "    self.nin_shortcut = get_conv2d(tname+\".nin_shortcut\", in_channels, out_channels, 1) if in_channels != out_channels else lambda x: x\n",
    "\n",
    "  def __call__(self, x):\n",
    "    h = self.conv1(tf.keras.activations.swish(self.norm1(x)) )\n",
    "    h = self.conv2(tf.keras.activations.swish(self.norm2(h)) )\n",
    "    return self.nin_shortcut(x) + h\n"
   ]
  },
  {
   "cell_type": "code",
   "execution_count": 28,
   "id": "bdd1bf15",
   "metadata": {},
   "outputs": [],
   "source": [
    "class Mid:\n",
    "  def __init__(self, tname , block_in):\n",
    "    super(Mid, self).__init__()\n",
    "    self.block_1 = ResnetBlock(tname+\".block_1\" , block_in, block_in)\n",
    "    self.attn_1 = AttnBlock(tname+\".attn_1\" ,block_in)\n",
    "    self.block_2 = ResnetBlock(tname+\".block_2\" , block_in, block_in)\n",
    "\n",
    "  def __call__(self, x):\n",
    "    return apply_seq(x , [self.block_1, self.attn_1, self.block_2])\n"
   ]
  },
  {
   "cell_type": "code",
   "execution_count": 29,
   "id": "fc3e0855",
   "metadata": {},
   "outputs": [],
   "source": [
    "class Decoder:\n",
    "  def __init__(self, tname ):\n",
    "    super(Decoder, self).__init__()\n",
    "    sz = [(128, 256), (256, 512), (512, 512), (512, 512)]\n",
    "    self.conv_in = get_conv2d( tname+\".conv_in\" ,  4,512,3, padding=1)\n",
    "    self.mid = Mid(tname+\".mid\" , 512)\n",
    "    self.upp = tf.keras.layers.UpSampling2D(size=(2, 2))\n",
    "\n",
    "    arr = []\n",
    "    for i,s in enumerate(sz):\n",
    "      arr.append({\"block\":\n",
    "        [ResnetBlock( tname + \".up.%d.block.0\"%i , s[1], s[0]),\n",
    "         ResnetBlock( tname + \".up.%d.block.1\"%i , s[0], s[0]),\n",
    "         ResnetBlock( tname + \".up.%d.block.2\"%i , s[0], s[0])]})\n",
    "      if i != 0: arr[-1]['upsample'] = {\"conv\": get_conv2d( tname + \".up.%d.upsample.conv\"%i , s[0], s[0], 3, padding=1)}\n",
    "    self.up = arr\n",
    "\n",
    "    self.norm_out = tfa.layers.GroupNormalization(epsilon=1e-5 , weights=[\n",
    "        weights['state_dict'][tname+\".norm_out.weight\"],\n",
    "        weights['state_dict'][tname+\".norm_out.bias\"]\n",
    "      ])\n",
    "    self.conv_out = get_conv2d(tname+ \".conv_out\" , 128, 3, 3, padding=1)\n",
    "\n",
    "  def __call__(self, x):\n",
    "    x = self.conv_in(x)\n",
    "    x = self.mid(x)\n",
    "\n",
    "    for l in self.up[::-1]:\n",
    "      for b in l['block']: x = b(x)\n",
    "      if 'upsample' in l:\n",
    "        # https://pytorch.org/docs/stable/generated/torch.nn.functional.interpolate.html ?\n",
    "        bs,c,py,px = x.shape\n",
    "        x = self.upp(x)\n",
    "        x = l['upsample']['conv'](x)\n",
    "\n",
    "    return self.conv_out(tf.keras.activations.swish (self.norm_out(x)) )\n"
   ]
  },
  {
   "cell_type": "code",
   "execution_count": null,
   "id": "3c6cf5ca",
   "metadata": {},
   "outputs": [],
   "source": []
  },
  {
   "cell_type": "code",
   "execution_count": 30,
   "id": "78db7694",
   "metadata": {},
   "outputs": [
    {
     "name": "stdout",
     "output_type": "stream",
     "text": [
      "Metal device set to: Apple M1\n"
     ]
    },
    {
     "name": "stderr",
     "output_type": "stream",
     "text": [
      "2022-09-15 00:26:28.974017: I tensorflow/core/common_runtime/pluggable_device/pluggable_device_factory.cc:305] Could not identify NUMA node of platform GPU ID 0, defaulting to 0. Your kernel may not have been built with NUMA support.\n",
      "2022-09-15 00:26:28.974176: I tensorflow/core/common_runtime/pluggable_device/pluggable_device_factory.cc:271] Created TensorFlow device (/job:localhost/replica:0/task:0/device:GPU:0 with 0 MB memory) -> physical PluggableDevice (device: 0, name: METAL, pci bus id: <undefined>)\n"
     ]
    }
   ],
   "source": [
    "# init the model\n",
    "text_encoder = CLIPTextTransformer('cond_stage_model.transformer.text_model')\n",
    "unet = UNetModel(\"model.diffusion_model\")\n",
    "decoder = Decoder(\"first_stage_model.decoder\")"
   ]
  },
  {
   "cell_type": "code",
   "execution_count": 31,
   "id": "00cf3d66",
   "metadata": {},
   "outputs": [],
   "source": [
    "post_quant_conv = get_conv2d(\"first_stage_model.post_quant_conv\" , 4, 4, 1)"
   ]
  },
  {
   "cell_type": "code",
   "execution_count": null,
   "id": "41f3c085",
   "metadata": {},
   "outputs": [],
   "source": []
  },
  {
   "cell_type": "code",
   "execution_count": 32,
   "id": "874bce97",
   "metadata": {
    "scrolled": true
   },
   "outputs": [],
   "source": [
    "from transformers import CLIPTokenizer\n",
    "tokenizer = CLIPTokenizer.from_pretrained(\"openai/clip-vit-base-patch32\")"
   ]
  },
  {
   "cell_type": "code",
   "execution_count": 89,
   "id": "82d83a7f",
   "metadata": {},
   "outputs": [],
   "source": [
    "\n",
    "\n",
    "inputs = tokenizer([\"an astronaut riding a hourse\"], padding=True)\n",
    "\n"
   ]
  },
  {
   "cell_type": "code",
   "execution_count": null,
   "id": "23c27298",
   "metadata": {},
   "outputs": [],
   "source": []
  },
  {
   "cell_type": "code",
   "execution_count": 90,
   "id": "bf85d368",
   "metadata": {},
   "outputs": [
    {
     "data": {
      "text/plain": [
       "TensorShape([1, 77, 768])"
      ]
     },
     "execution_count": 90,
     "metadata": {},
     "output_type": "execute_result"
    }
   ],
   "source": [
    "\n",
    "phrase = inputs['input_ids'][0] + [49407]*(77-len(inputs['input_ids'][0]))\n",
    "\n",
    "phrase = np.array(phrase)[None].astype(\"int32\")\n",
    "phrase = tf.convert_to_tensor(phrase)\n",
    "context = text_encoder(phrase)\n",
    "context.shape"
   ]
  },
  {
   "cell_type": "code",
   "execution_count": 91,
   "id": "fb243a8b",
   "metadata": {},
   "outputs": [],
   "source": [
    "phrase = [49406, 49407, 49407, 49407, 49407, 49407, 49407, 49407, 49407, 49407, 49407, 49407, 49407, 49407, 49407, 49407, 49407, 49407, 49407, 49407, 49407, 49407, 49407, 49407, 49407, 49407, 49407, 49407, 49407, 49407, 49407, 49407, 49407, 49407, 49407, 49407, 49407, 49407, 49407, 49407, 49407, 49407, 49407, 49407, 49407, 49407, 49407, 49407, 49407, 49407, 49407, 49407, 49407, 49407, 49407, 49407, 49407, 49407, 49407, 49407, 49407, 49407, 49407, 49407, 49407, 49407, 49407, 49407, 49407, 49407, 49407, 49407, 49407, 49407, 49407, 49407, 49407]\n",
    "phrase = np.array(phrase)[None].astype(\"int32\")\n",
    "phrase = tf.convert_to_tensor(phrase)\n",
    "unconditional_context = text_encoder(phrase)"
   ]
  },
  {
   "cell_type": "code",
   "execution_count": 92,
   "id": "53df0240",
   "metadata": {},
   "outputs": [],
   "source": [
    "\n",
    "def timestep_embedding(timesteps, dim=320, max_period=10000):\n",
    "  half = dim // 2\n",
    "  freqs = np.exp(-math.log(max_period) * np.arange(0, half, dtype=np.float32) / half)\n",
    "  args = np.array(timesteps) * freqs\n",
    "  embedding = np.concatenate([np.cos(args), np.sin(args)])\n",
    "  return (embedding).reshape(1, -1)"
   ]
  },
  {
   "cell_type": "code",
   "execution_count": null,
   "id": "64716b88",
   "metadata": {},
   "outputs": [],
   "source": []
  },
  {
   "cell_type": "code",
   "execution_count": 93,
   "id": "b4fed14c",
   "metadata": {},
   "outputs": [],
   "source": [
    "def get_model_output(latent, t):\n",
    "    # put into diffuser\n",
    "    timesteps = np.array([t])\n",
    "    t_emb = tf.convert_to_tensor(timestep_embedding(timesteps))\n",
    "    unconditional_latent = unet([latent, t_emb, unconditional_context])\n",
    "    latent = unet([latent, t_emb, context])\n",
    "    unconditional_guidance_scale = 7.5\n",
    "    e_t = unconditional_latent + unconditional_guidance_scale * (latent - unconditional_latent)\n",
    "    return e_t"
   ]
  },
  {
   "cell_type": "code",
   "execution_count": 94,
   "id": "39841d6b",
   "metadata": {},
   "outputs": [
    {
     "name": "stdout",
     "output_type": "stream",
     "text": [
      "running for [1, 41, 81, 121, 161, 201, 241, 281, 321, 361, 401, 441, 481, 521, 561, 601, 641, 681, 721, 761, 801, 841, 881, 921, 961] timesteps\n"
     ]
    }
   ],
   "source": [
    "TIMESTEPS = int(os.getenv(\"TIMESTEPS\", \"25\"))\n",
    "timesteps = list(np.arange(1, 1000, 1000//TIMESTEPS))\n",
    "print(f\"running for {timesteps} timesteps\")"
   ]
  },
  {
   "cell_type": "code",
   "execution_count": 95,
   "id": "94f3df32",
   "metadata": {},
   "outputs": [],
   "source": [
    "alphas_cumprod = weights['state_dict']['alphas_cumprod'].numpy()"
   ]
  },
  {
   "cell_type": "code",
   "execution_count": null,
   "id": "d1c8b8fc",
   "metadata": {},
   "outputs": [],
   "source": []
  },
  {
   "cell_type": "code",
   "execution_count": 96,
   "id": "7227ab08",
   "metadata": {},
   "outputs": [],
   "source": [
    "alphas = [alphas_cumprod[t] for t in timesteps]\n",
    "alphas_prev = [1.0] + alphas[:-1]"
   ]
  },
  {
   "cell_type": "code",
   "execution_count": 97,
   "id": "2887c002",
   "metadata": {},
   "outputs": [],
   "source": [
    "def get_x_prev_and_pred_x0(x, e_t, index):\n",
    "    temperature = 1\n",
    "    a_t, a_prev = alphas[index], alphas_prev[index]\n",
    "    sigma_t = 0\n",
    "    sqrt_one_minus_at = math.sqrt(1-a_t)\n",
    "    #print(a_t, a_prev, sigma_t, sqrt_one_minus_at)\n",
    "\n",
    "    pred_x0 = (x - sqrt_one_minus_at * e_t) / math.sqrt(a_t)\n",
    "\n",
    "    # direction pointing to x_t\n",
    "    dir_xt = math.sqrt(1. - a_prev - sigma_t**2) * e_t\n",
    "    noise = sigma_t * tf.random.normal(x.shape) * temperature\n",
    "\n",
    "    x_prev = math.sqrt(a_prev) * pred_x0 + dir_xt #+ noise\n",
    "    return x_prev, pred_x0"
   ]
  },
  {
   "cell_type": "code",
   "execution_count": 98,
   "id": "946e0c1a",
   "metadata": {},
   "outputs": [],
   "source": [
    "latent = tf.random.normal((1,64,64,4))"
   ]
  },
  {
   "cell_type": "code",
   "execution_count": 99,
   "id": "72974f99",
   "metadata": {},
   "outputs": [],
   "source": [
    "from tqdm import tqdm"
   ]
  },
  {
   "cell_type": "code",
   "execution_count": 100,
   "id": "db3f06d7",
   "metadata": {},
   "outputs": [
    {
     "name": "stderr",
     "output_type": "stream",
     "text": [
      "  0   1: 100%|█████████████████████████████████████████████████████████████████████| 25/25 [02:08<00:00,  5.15s/it]\n"
     ]
    }
   ],
   "source": [
    "for index, timestep in (t:=tqdm(list(enumerate(timesteps))[::-1])):\n",
    "    t.set_description(\"%3d %3d\" % (index, timestep))\n",
    "    e_t = get_model_output(latent, timestep)\n",
    "    x_prev, pred_x0 = get_x_prev_and_pred_x0(latent, e_t, index)\n",
    "    latent = x_prev\n"
   ]
  },
  {
   "cell_type": "code",
   "execution_count": 101,
   "id": "af8d2859",
   "metadata": {},
   "outputs": [],
   "source": [
    "x = post_quant_conv(1/0.18215 * latent)\n",
    "decoded = decoder(x)"
   ]
  },
  {
   "cell_type": "code",
   "execution_count": 102,
   "id": "f35eb871",
   "metadata": {
    "scrolled": true
   },
   "outputs": [
    {
     "data": {
      "text/plain": [
       "<matplotlib.image.AxesImage at 0x48ec2cee0>"
      ]
     },
     "execution_count": 102,
     "metadata": {},
     "output_type": "execute_result"
    },
    {
     "data": {
      "image/png": "[encoded data removed]",
      "text/plain": [
       "<Figure size 432x288 with 1 Axes>"
      ]
     },
     "metadata": {
      "needs_background": "light"
     },
     "output_type": "display_data"
    }
   ],
   "source": [
    "plt.imshow(np.clip((decoded[0].numpy()+1)/2, 0 , 1 ))"
   ]
  },
  {
   "cell_type": "code",
   "execution_count": null,
   "id": "95b563ff",
   "metadata": {},
   "outputs": [],
   "source": []
  },
  {
   "cell_type": "code",
   "execution_count": null,
   "id": "cb568e26",
   "metadata": {},
   "outputs": [],
   "source": []
  },
  {
   "cell_type": "code",
   "execution_count": null,
   "id": "2b392551",
   "metadata": {},
   "outputs": [],
   "source": []
  },
  {
   "cell_type": "code",
   "execution_count": null,
   "id": "61b1d316",
   "metadata": {},
   "outputs": [],
   "source": []
  }
 ],
 "metadata": {
  "kernelspec": {
   "display_name": "Python 3 (ipykernel)",
   "language": "python",
   "name": "python3"
  },
  "language_info": {
   "codemirror_mode": {
    "name": "ipython",
    "version": 3
   },
   "file_extension": ".py",
   "mimetype": "text/x-python",
   "name": "python",
   "nbconvert_exporter": "python",
   "pygments_lexer": "ipython3",
   "version": "3.9.10"
  }
 },
 "nbformat": 4,
 "nbformat_minor": 5
}
