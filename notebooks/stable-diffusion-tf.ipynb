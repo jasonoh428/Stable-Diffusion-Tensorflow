{
 "cells": [
  {
   "cell_type": "code",
   "execution_count": 2,
   "id": "1190a76d",
   "metadata": {
    "scrolled": true
   },
   "outputs": [
    {
     "name": "stdout",
     "output_type": "stream",
     "text": [
      "Init Plugin\n",
      "Init Graph Optimizer\n",
      "Init Kernel\n"
     ]
    }
   ],
   "source": [
    "import tensorflow as tf\n",
    "import numpy as np\n",
    "import torch\n",
    "\n",
    "import math \n",
    "import os"
   ]
  },
  {
   "cell_type": "code",
   "execution_count": 3,
   "id": "da17caae",
   "metadata": {},
   "outputs": [],
   "source": [
    "%matplotlib inline\n",
    "\n",
    "import matplotlib\n",
    "import numpy as np\n",
    "import matplotlib.pyplot as plt"
   ]
  },
  {
   "cell_type": "code",
   "execution_count": 4,
   "id": "8c629384",
   "metadata": {
    "scrolled": false
   },
   "outputs": [
    {
     "name": "stderr",
     "output_type": "stream",
     "text": [
      "/Users/divamgupta/miniforge3/lib/python3.9/site-packages/tensorflow_addons/utils/ensure_tf_install.py:53: UserWarning: Tensorflow Addons supports using Python ops for all Tensorflow versions above or equal to 2.7.0 and strictly below 2.10.0 (nightly versions are not supported). \n",
      " The versions of TensorFlow you are currently using is 2.6.0 and is not supported. \n",
      "Some things might work, some things might not.\n",
      "If you were to encounter a bug, do not file an issue.\n",
      "If you want to make sure you're using a tested and supported configuration, either change the TensorFlow version or the TensorFlow Addons's version. \n",
      "You can find the compatibility matrix in TensorFlow Addon's readme:\n",
      "https://github.com/tensorflow/addons\n",
      "  warnings.warn(\n"
     ]
    }
   ],
   "source": [
    "import tensorflow_addons as tfa\n"
   ]
  },
  {
   "cell_type": "code",
   "execution_count": null,
   "id": "551a0e05",
   "metadata": {},
   "outputs": [],
   "source": []
  },
  {
   "cell_type": "code",
   "execution_count": 5,
   "id": "25b81e89",
   "metadata": {},
   "outputs": [],
   "source": [
    "FILENAME = \"/Users/divamgupta/Downloads/sd-v1-4.ckpt\"\n",
    "weights = torch.load(FILENAME)"
   ]
  },
  {
   "cell_type": "code",
   "execution_count": null,
   "id": "42975c33",
   "metadata": {},
   "outputs": [],
   "source": []
  },
  {
   "cell_type": "code",
   "execution_count": null,
   "id": "2fdcfe62",
   "metadata": {},
   "outputs": [],
   "source": []
  },
  {
   "cell_type": "code",
   "execution_count": null,
   "id": "5ac477b8",
   "metadata": {},
   "outputs": [],
   "source": []
  },
  {
   "cell_type": "code",
   "execution_count": 6,
   "id": "72f92611",
   "metadata": {},
   "outputs": [],
   "source": [
    "def quick_gelu(x):\n",
    "    return x * tf.sigmoid(x * 1.702) \n"
   ]
  },
  {
   "cell_type": "code",
   "execution_count": 7,
   "id": "ce7eb2b1",
   "metadata": {},
   "outputs": [],
   "source": [
    " \n",
    "class CLIPAttention(tf.keras.layers.Layer):\n",
    "    def __init__(self, tname):\n",
    "        super(CLIPAttention, self).__init__()\n",
    "        self.embed_dim = 768\n",
    "        self.num_heads = 12\n",
    "        self.head_dim = self.embed_dim // self.num_heads\n",
    "        self.scale = self.head_dim**-0.5\n",
    "        self.k_proj = tf.keras.layers.Dense(self.embed_dim  , activation=None , weights=[weights['state_dict'][tname+\".k_proj.weight\"].T  , weights['state_dict'][tname+\".k_proj.bias\"]] )\n",
    "        self.v_proj = tf.keras.layers.Dense(self.embed_dim , activation=None  , weights=[weights['state_dict'][tname+\".v_proj.weight\"].T  , weights['state_dict'][tname+\".v_proj.bias\"]])\n",
    "        self.q_proj = tf.keras.layers.Dense(self.embed_dim , activation=None  , weights=[weights['state_dict'][tname+\".q_proj.weight\"].T  , weights['state_dict'][tname+\".q_proj.bias\"]])\n",
    "        self.out_proj = tf.keras.layers.Dense(self.embed_dim , activation=None  , weights=[weights['state_dict'][tname+\".out_proj.weight\"].T  , weights['state_dict'][tname+\".out_proj.bias\"]])\n",
    "\n",
    "    def _shape(self, tensor, seq_len: int, bsz: int):\n",
    "        a = tf.reshape(tensor , (bsz, seq_len, self.num_heads, self.head_dim))\n",
    "        return tf.keras.layers.Permute( (2,1,3) )(a) # bs , n_head , seq_len , head_dim\n",
    "    \n",
    "    def call(self, inputs ):\n",
    "        [hidden_states, causal_attention_mask] = inputs\n",
    "        bsz, tgt_len, embed_dim = hidden_states.shape\n",
    "        query_states = self.q_proj(hidden_states) * self.scale\n",
    "        key_states = self._shape(self.k_proj(hidden_states), tgt_len, -1)\n",
    "        value_states = self._shape(self.v_proj(hidden_states), tgt_len, -1)\n",
    "        \n",
    "        proj_shape = (-1 , tgt_len, self.head_dim)\n",
    "        query_states = self._shape(query_states, tgt_len, -1)\n",
    "        query_states = tf.reshape(query_states , proj_shape)\n",
    "        key_states = tf.reshape(key_states , proj_shape)\n",
    "                \n",
    "        src_len = tgt_len\n",
    "        value_states = tf.reshape(value_states , proj_shape)\n",
    "        attn_weights = query_states @ tf.keras.layers.Permute((2,1))(key_states) \n",
    "        \n",
    "        attn_weights = tf.reshape(attn_weights , (-1, self.num_heads, tgt_len, src_len))\n",
    "        attn_weights = attn_weights + causal_attention_mask\n",
    "        attn_weights = tf.reshape(attn_weights , (-1, tgt_len, src_len))\n",
    "        \n",
    "        attn_weights = tf.nn.softmax(attn_weights)\n",
    "        attn_output = attn_weights @ value_states\n",
    "        \n",
    "        attn_output = tf.reshape(attn_output , (-1, self.num_heads, tgt_len, self.head_dim))\n",
    "        attn_output = tf.keras.layers.Permute((2,1,3))(attn_output)\n",
    "        attn_output = tf.reshape(attn_output , (-1, tgt_len, embed_dim))\n",
    "\n",
    "        attn_output = self.out_proj(attn_output)\n",
    "        return attn_output\n"
   ]
  },
  {
   "cell_type": "code",
   "execution_count": 8,
   "id": "82bec30f",
   "metadata": {},
   "outputs": [],
   "source": [
    "\n",
    "\n",
    "class CLIPMLP(tf.keras.layers.Layer):\n",
    "    def __init__(self, tname):\n",
    "        super(CLIPMLP, self).__init__()\n",
    "        self.fc1 = tf.keras.layers.Dense( 3072, weights=[weights['state_dict'][tname+\".fc1.weight\"].T  , weights['state_dict'][tname+\".fc1.bias\"]])\n",
    "        self.fc2 = tf.keras.layers.Dense(  768, weights=[weights['state_dict'][tname+\".fc2.weight\"].T  , weights['state_dict'][tname+\".fc2.bias\"]])\n",
    "\n",
    "    def __call__(self, hidden_states):\n",
    "        hidden_states = self.fc1(hidden_states)\n",
    "        hidden_states = quick_gelu(hidden_states )\n",
    "        hidden_states = self.fc2(hidden_states)\n",
    "        return hidden_states\n"
   ]
  },
  {
   "cell_type": "code",
   "execution_count": 9,
   "id": "99437cb8",
   "metadata": {},
   "outputs": [],
   "source": [
    "class CLIPEncoderLayer(tf.keras.layers.Layer):\n",
    "    def __init__(self, tname):\n",
    "        super(CLIPEncoderLayer, self).__init__()\n",
    "        self.self_attn = CLIPAttention(tname+\".self_attn\")\n",
    "        self.layer_norm1 = tf.keras.layers.LayerNormalization( epsilon=1e-5 , weights=[ weights['state_dict'][tname+\".layer_norm1.weight\"] , weights['state_dict'][tname+\".layer_norm1.bias\"] ])\n",
    "        self.mlp = CLIPMLP(tname+\".mlp\")\n",
    "        self.layer_norm2 = tf.keras.layers.LayerNormalization( epsilon=1e-5 , weights=[ weights['state_dict'][tname+\".layer_norm2.weight\"] , weights['state_dict'][tname+\".layer_norm2.bias\"] ])\n",
    "\n",
    "    def __call__(self, inputs):\n",
    "        [hidden_states, causal_attention_mask] = inputs\n",
    "        residual = hidden_states\n",
    "    \n",
    "        hidden_states = self.layer_norm1(hidden_states)\n",
    "        hidden_states = self.self_attn([hidden_states, causal_attention_mask])\n",
    "        hidden_states = residual + hidden_states\n",
    "        \n",
    "        \n",
    "\n",
    "        residual = hidden_states\n",
    "        hidden_states = self.layer_norm2(hidden_states)\n",
    "        hidden_states = self.mlp(hidden_states)\n",
    "        \n",
    "        hidden_states = residual + hidden_states\n",
    "        \n",
    "        \n",
    "\n",
    "        return hidden_states\n"
   ]
  },
  {
   "cell_type": "code",
   "execution_count": 10,
   "id": "ad2012e3",
   "metadata": {},
   "outputs": [],
   "source": [
    "class CLIPEncoder(tf.keras.layers.Layer):\n",
    "    def __init__(self, tname):\n",
    "        super(CLIPEncoder, self).__init__()\n",
    "        self.layers = [CLIPEncoderLayer(tname + \".layers.%d\"%i) for i in range(12)]\n",
    "  \n",
    "    def __call__(self, inputs):\n",
    "        [hidden_states, causal_attention_mask] = inputs\n",
    "        for i,l in enumerate(self.layers):\n",
    "            hidden_states = l([hidden_states, causal_attention_mask])\n",
    "        return hidden_states\n"
   ]
  },
  {
   "cell_type": "code",
   "execution_count": 11,
   "id": "49911587",
   "metadata": {},
   "outputs": [],
   "source": [
    "class CLIPTextEmbeddings(tf.keras.layers.Layer):\n",
    "    def __init__(self, tname , n_words=77):\n",
    "        super(CLIPTextEmbeddings, self).__init__()\n",
    "        \n",
    "        token_emb_W = weights['state_dict'][tname + '.token_embedding.weight']\n",
    "\n",
    "\n",
    "        self.token_embedding_layer = tf.keras.layers.Embedding( 49408, 768 , name=\"token_embedding\" , weights=[token_emb_W])\n",
    "\n",
    "        pos_emb_W = weights['state_dict'][tname + '.position_embedding.weight']\n",
    "\n",
    "\n",
    "        self.position_embedding_layer = tf.keras.layers.Embedding( n_words, 768, name=\"position_embedding\", weights=[pos_emb_W])\n",
    "\n",
    "\n",
    "    def __call__(self, inputs):\n",
    "        [input_ids, position_ids] = inputs\n",
    "        word_embeddings = self.token_embedding_layer(input_ids)\n",
    "        position_embeddings = self.position_embedding_layer(position_ids)\n",
    "        return  word_embeddings + position_embeddings\n",
    "          "
   ]
  },
  {
   "cell_type": "code",
   "execution_count": 36,
   "id": "22bc7cf1",
   "metadata": {},
   "outputs": [],
   "source": [
    "class CLIPTextTransformer(tf.keras.models.Model):\n",
    "    def __init__(self, tname , n_words=77):\n",
    "        super(CLIPTextTransformer, self).__init__()\n",
    "        self.embeddings = CLIPTextEmbeddings(tname+\".embeddings\" , n_words=n_words)\n",
    "        self.encoder = CLIPEncoder(tname + \".encoder\")\n",
    "        self.final_layer_norm = tf.keras.layers.LayerNormalization( epsilon=1e-5 , weights=[ weights['state_dict'][tname+\".final_layer_norm.weight\"] , weights['state_dict'][tname+\".final_layer_norm.bias\"] ])\n",
    "    \n",
    "        self.causal_attention_mask = tf.constant(np.triu(np.ones((1,1,77,77), dtype=np.float32) * -np.inf, k=1))\n",
    "        \n",
    "    def __call__(self, inputs , training=False):\n",
    "        [input_ids,  inp_position_ids ] = inputs\n",
    "        x = self.embeddings([input_ids,  inp_position_ids ])\n",
    "        x = self.encoder([x, self.causal_attention_mask] )\n",
    "        return self.final_layer_norm(x)\n"
   ]
  },
  {
   "cell_type": "code",
   "execution_count": null,
   "id": "ffe09a0a",
   "metadata": {},
   "outputs": [],
   "source": []
  },
  {
   "cell_type": "code",
   "execution_count": 37,
   "id": "5fad6082",
   "metadata": {},
   "outputs": [],
   "source": [
    "def get_conv2d(tname , in_channels, out_channels, kernel_size ,padding=0 ,stride=1):\n",
    "    \n",
    "    W =  weights['state_dict'][tname + '.weight'].numpy()\n",
    "    W = np.transpose(W , (2,3,1,0))\n",
    "    assert in_channels == W.shape[-2]\n",
    "    assert out_channels == W.shape[-1]\n",
    "    b =  weights['state_dict'][tname + '.bias']\n",
    "    \n",
    "    r =  tf.keras.models.Sequential([\n",
    "        \n",
    "        tf.keras.layers.ZeroPadding2D(\n",
    "            padding=(padding, padding), data_format=None \n",
    "        ) , \n",
    "        \n",
    "        \n",
    "        tf.keras.layers.Conv2D(\n",
    "            out_channels,\n",
    "            kernel_size,\n",
    "            strides=(stride, stride ) , weights=[W,b] ) \n",
    "    ])\n",
    "    return r\n",
    "    \n",
    "\n",
    "    "
   ]
  },
  {
   "cell_type": "code",
   "execution_count": null,
   "id": "b3763792",
   "metadata": {},
   "outputs": [],
   "source": []
  },
  {
   "cell_type": "code",
   "execution_count": 38,
   "id": "2e52b28f",
   "metadata": {},
   "outputs": [],
   "source": [
    "def apply_seq(x , layers):\n",
    "    for l in layers:\n",
    "        x = l(x)\n",
    "    return x"
   ]
  },
  {
   "cell_type": "code",
   "execution_count": 39,
   "id": "af24d9fc",
   "metadata": {},
   "outputs": [],
   "source": [
    "# not to be confused with ResnetBlock\n",
    "class ResBlock(tf.keras.layers.Layer):\n",
    "  def __init__(self, tname, channels, emb_channels, out_channels):\n",
    "    super(ResBlock, self).__init__()\n",
    "    self.in_layers = [\n",
    "      tfa.layers.GroupNormalization(epsilon=1e-5 , weights=[\n",
    "        weights['state_dict'][tname+\".in_layers.0.weight\"],\n",
    "        weights['state_dict'][tname+\".in_layers.0.bias\"]\n",
    "      ]),\n",
    "      tf.keras.activations.swish,\n",
    "      get_conv2d(tname+\".in_layers.2\" , channels, out_channels, 3, padding=1)\n",
    "    ]\n",
    "    self.emb_layers = [\n",
    "      tf.keras.activations.swish,\n",
    "      tf.keras.layers.Dense( out_channels, weights=[weights['state_dict'][tname+\".emb_layers.1.weight\"].T  , weights['state_dict'][tname+\".emb_layers.1.bias\"]])\n",
    "    ]\n",
    "    self.out_layers = [\n",
    "      tfa.layers.GroupNormalization(epsilon=1e-5 , weights=[\n",
    "        weights['state_dict'][tname+\".out_layers.0.weight\"],\n",
    "        weights['state_dict'][tname+\".out_layers.0.bias\"]\n",
    "      ]),\n",
    "      tf.keras.activations.swish,\n",
    "      lambda x: x,\n",
    "      get_conv2d(tname+\".out_layers.3\" ,out_channels, out_channels, 3, padding=1)\n",
    "    ]\n",
    "    self.skip_connection = get_conv2d(tname+\".skip_connection\" , channels, out_channels, 1) if channels != out_channels else lambda x: x\n",
    "\n",
    "  def __call__(self,inputs ):\n",
    "    x, emb = inputs\n",
    "    h = apply_seq(x , self.in_layers)\n",
    "    emb_out = apply_seq(emb, self.emb_layers)\n",
    "    h = h + emb_out[:, None , None]\n",
    "    h = apply_seq(h , self.out_layers)\n",
    "    ret = self.skip_connection(x) + h\n",
    "    return ret"
   ]
  },
  {
   "cell_type": "code",
   "execution_count": 40,
   "id": "7f64480d",
   "metadata": {},
   "outputs": [],
   "source": [
    "\n",
    "def timestep_embedding(timesteps, dim, max_period=10000):\n",
    "    half = dim // 2\n",
    "    freqs = np.exp(-math.log(max_period) * np.arange(0, half, dtype=np.float32) / half)\n",
    "    args = timesteps.numpy() * freqs\n",
    "    embedding = np.concatenate([np.cos(args), np.sin(args)])\n",
    "    return Tensor(embedding).reshape(1, -1)\n"
   ]
  },
  {
   "cell_type": "code",
   "execution_count": 41,
   "id": "7ed9c0f9",
   "metadata": {},
   "outputs": [],
   "source": [
    "def td_dot(a , b ):\n",
    "    assert len(a.shape) == 4\n",
    "    assert len(a.shape) == 4\n",
    "    assert a.shape[0] == b.shape[0]\n",
    "    assert b.shape[1] == a.shape[1]\n",
    "    aa = tf.reshape(a , (-1 , a.shape[2] , a.shape[3]))\n",
    "    bb = tf.reshape(b , (-1 , b.shape[2] , b.shape[3]))\n",
    "    cc = tf.keras.backend.batch_dot(aa , bb )\n",
    "    c = tf.reshape(cc , (-1 , a.shape[1] , cc.shape[1] , cc.shape[2]))\n",
    "    return c "
   ]
  },
  {
   "cell_type": "code",
   "execution_count": 42,
   "id": "22d9ffe2",
   "metadata": {},
   "outputs": [],
   "source": [
    "class CrossAttention(tf.keras.layers.Layer):\n",
    "  def __init__(self, tname, query_dim, context_dim, n_heads, d_head):\n",
    "    super(CrossAttention, self).__init__()\n",
    "    self.to_q = tf.keras.layers.Dense( n_heads*d_head,use_bias=False ,weights=[weights['state_dict'][tname+\".to_q.weight\"].T  ])\n",
    "    self.to_k = tf.keras.layers.Dense( n_heads*d_head,use_bias=False ,weights=[weights['state_dict'][tname+\".to_k.weight\"].T  ])\n",
    "    self.to_v = tf.keras.layers.Dense( n_heads*d_head,use_bias=False ,weights=[weights['state_dict'][tname+\".to_v.weight\"].T  ])\n",
    "    self.scale = d_head ** -0.5\n",
    "    self.num_heads = n_heads\n",
    "    self.head_size = d_head\n",
    "    self.to_out = [tf.keras.layers.Dense( n_heads*d_head ,weights=[weights['state_dict'][tname+\".to_out.0.weight\"].T , weights['state_dict'][tname+\".to_out.0.bias\"] ])]\n",
    "\n",
    "  def __call__(self, inputs):\n",
    "    assert type(inputs) is list\n",
    "    if len(inputs) == 1:\n",
    "        inputs = inputs + [None]\n",
    "    [x , context] = inputs\n",
    "    context = x if context is None else context\n",
    "    q,k,v = self.to_q(x), self.to_k(context), self.to_v(context)\n",
    "    assert len(x.shape) == 3\n",
    "    q = tf.reshape(q , ( -1 , x.shape[1], self.num_heads, self.head_size) )\n",
    "    k = tf.reshape(k , ( -1 , context.shape[1] , self.num_heads, self.head_size) )\n",
    "    v = tf.reshape(v, ( -1 , context.shape[1] , self.num_heads, self.head_size) )\n",
    "    \n",
    "    q = tf.keras.layers.Permute((2,1,3))(q)  # (bs, num_heads, time, head_size)\n",
    "    k = tf.keras.layers.Permute((2,3,1))(k)  # (bs, num_heads, head_size, time)\n",
    "    v = tf.keras.layers.Permute((2,1,3))(v)# (bs, num_heads, time, head_size)\n",
    "    \n",
    "    score = td_dot(q,k) * self.scale\n",
    "    weights = tf.keras.activations.softmax(score)                   # (bs, num_heads, time, time)\n",
    "    attention = td_dot(weights,v)  \n",
    "    attention = tf.keras.layers.Permute((2,1,3))(attention) # (bs, time, num_heads, head_size)\n",
    "\n",
    "    h_ = tf.reshape(attention, (-1 ,x.shape[1] , self.num_heads * self.head_size))\n",
    "    return apply_seq(h_ , self.to_out)\n"
   ]
  },
  {
   "cell_type": "code",
   "execution_count": 43,
   "id": "e29258b8",
   "metadata": {},
   "outputs": [],
   "source": [
    "\n",
    "def gelu(self):\n",
    "    return 0.5 * self * (1 + tf.keras.activations.tanh(self * 0.7978845608 * (1 + 0.044715 * self * self)))\n"
   ]
  },
  {
   "cell_type": "code",
   "execution_count": 44,
   "id": "93f9beb0",
   "metadata": {},
   "outputs": [],
   "source": [
    "class GEGLU(tf.keras.layers.Layer):\n",
    "  def __init__(self, tname, dim_in, dim_out):\n",
    "    super(GEGLU, self).__init__()\n",
    "    \n",
    "    self.proj = tf.keras.layers.Dense( dim_out * 2 ,weights=[weights['state_dict'][tname+\".proj.weight\"].T , weights['state_dict'][tname+\".proj.bias\"] ])\n",
    "    self.dim_out = dim_out\n",
    "\n",
    "  def __call__(self, x):\n",
    "    xp = self.proj(x)\n",
    "    x, gate = xp[... , :self.dim_out ] , xp[..., self.dim_out:]\n",
    "    ans = x * gelu(gate)\n",
    "    \n",
    "    return ans\n"
   ]
  },
  {
   "cell_type": "code",
   "execution_count": 45,
   "id": "53c692a3",
   "metadata": {},
   "outputs": [],
   "source": [
    "class FeedForward(tf.keras.layers.Layer):\n",
    "  def __init__(self, tname , dim, mult=4):\n",
    "    super(FeedForward, self).__init__()\n",
    "    self.net = [\n",
    "      GEGLU(tname + \".net.0\" , dim, dim*mult),\n",
    "      lambda x: x,\n",
    "      tf.keras.layers.Dense( dim ,weights=[weights['state_dict'][tname+\".net.2.weight\"].T , weights['state_dict'][tname+\".net.2.bias\"] ])\n",
    "    ]\n",
    "\n",
    "  def __call__(self, x):\n",
    "    return apply_seq(x, self.net)"
   ]
  },
  {
   "cell_type": "code",
   "execution_count": 46,
   "id": "13237bd7",
   "metadata": {},
   "outputs": [],
   "source": [
    "class BasicTransformerBlock(tf.keras.layers.Layer):\n",
    "  def __init__(self, tname, dim, context_dim, n_heads, d_head):\n",
    "    super(BasicTransformerBlock, self).__init__()\n",
    "    self.attn1 = CrossAttention(tname+\".attn1\" , dim, dim, n_heads, d_head)\n",
    "    self.ff = FeedForward(tname+\".ff\" ,  dim)\n",
    "    self.attn2 = CrossAttention(tname+\".attn2\" ,dim, context_dim, n_heads, d_head)\n",
    "    self.norm1 = tf.keras.layers.LayerNormalization( epsilon=1e-5 , weights=[ weights['state_dict'][tname+\".norm1.weight\"] , weights['state_dict'][tname+\".norm1.bias\"] ])\n",
    "    self.norm2 = tf.keras.layers.LayerNormalization( epsilon=1e-5 , weights=[ weights['state_dict'][tname+\".norm2.weight\"] , weights['state_dict'][tname+\".norm2.bias\"] ])\n",
    "    self.norm3 = tf.keras.layers.LayerNormalization( epsilon=1e-5 , weights=[ weights['state_dict'][tname+\".norm3.weight\"] , weights['state_dict'][tname+\".norm3.bias\"] ])\n",
    "\n",
    "  def __call__(self, inputs):\n",
    "    [x, context] = inputs\n",
    "    \n",
    "    x = self.attn1([self.norm1(x)]) + x\n",
    "    x = self.attn2([self.norm2(x), context]) + x\n",
    "    x = self.ff(self.norm3(x)) + x\n",
    "    return x"
   ]
  },
  {
   "cell_type": "code",
   "execution_count": null,
   "id": "952d4e05",
   "metadata": {},
   "outputs": [],
   "source": []
  },
  {
   "cell_type": "code",
   "execution_count": 47,
   "id": "5b2cebc5",
   "metadata": {},
   "outputs": [],
   "source": [
    "class SpatialTransformer(tf.keras.layers.Layer):\n",
    "  def __init__(self, tname , channels, context_dim, n_heads, d_head):\n",
    "    super(SpatialTransformer, self).__init__()\n",
    "    self.norm = tfa.layers.GroupNormalization(epsilon=1e-5 , weights=[\n",
    "        weights['state_dict'][tname+\".norm.weight\"],\n",
    "        weights['state_dict'][tname+\".norm.bias\"]\n",
    "      ])\n",
    "    \n",
    "    assert channels == n_heads * d_head\n",
    "    self.proj_in = get_conv2d(tname+\".proj_in\", channels, n_heads * d_head, 1)\n",
    "    self.transformer_blocks = [BasicTransformerBlock(tname + \".transformer_blocks.0\",  channels, context_dim, n_heads, d_head)]\n",
    "    self.proj_out = get_conv2d(tname+\".proj_out\" , n_heads * d_head, channels, 1)\n",
    "\n",
    "  def __call__(self, inputs):\n",
    "    [x , context] = inputs\n",
    "    b, h, w , c  = x.shape\n",
    "    x_in = x\n",
    "    x = self.norm(x)\n",
    "    x = self.proj_in(x)\n",
    "    x = tf.reshape(x , (-1,   h*w , c) ) \n",
    "    for block in self.transformer_blocks:\n",
    "      x = block([x, context])\n",
    "    x = tf.reshape(x , (-1 , h, w , c) )\n",
    "    ret = self.proj_out(x) + x_in\n",
    "    return ret"
   ]
  },
  {
   "cell_type": "code",
   "execution_count": 48,
   "id": "fd5beb4a",
   "metadata": {},
   "outputs": [],
   "source": [
    "class Downsample(tf.keras.layers.Layer):\n",
    "  def __init__(self, tname , channels):\n",
    "    super(Downsample, self).__init__()\n",
    "    self.op = get_conv2d(tname + \".op\" , channels, channels, 3, stride=2, padding=1)\n",
    "\n",
    "  def __call__(self, x):\n",
    "    return self.op(x)\n"
   ]
  },
  {
   "cell_type": "code",
   "execution_count": 49,
   "id": "d7f08083",
   "metadata": {},
   "outputs": [],
   "source": [
    "class Upsample(tf.keras.layers.Layer):\n",
    "  def __init__(self, tname , channels):\n",
    "    super(Upsample, self).__init__()\n",
    "    self.conv = get_conv2d(tname + \".conv\" ,channels, channels, 3, padding=1)\n",
    "    self.ups = tf.keras.layers.UpSampling2D(size=(2, 2))\n",
    "\n",
    "  def __call__(self, x):\n",
    "    x = self.ups(x)\n",
    "    return self.conv(x)\n"
   ]
  },
  {
   "cell_type": "code",
   "execution_count": null,
   "id": "326a59d6",
   "metadata": {},
   "outputs": [],
   "source": []
  },
  {
   "cell_type": "code",
   "execution_count": 50,
   "id": "a8717414",
   "metadata": {},
   "outputs": [],
   "source": [
    "class UNetModel(tf.keras.models.Model):\n",
    "  def __init__(self, tname):\n",
    "    super(UNetModel, self).__init__()\n",
    "    self.time_embed = [\n",
    "       tf.keras.layers.Dense( 1280, weights=[weights['state_dict'][tname+\".time_embed.0.weight\"].T  , weights['state_dict'][tname+\".time_embed.0.bias\"]]),\n",
    "       tf.keras.activations.swish,\n",
    "       tf.keras.layers.Dense( 1280, weights=[weights['state_dict'][tname+\".time_embed.2.weight\"].T  , weights['state_dict'][tname+\".time_embed.2.bias\"]]),\n",
    "     ]\n",
    "\n",
    "    self.input_blocks = [\n",
    "      [get_conv2d( tname+\".input_blocks.0.0\",  4, 320, kernel_size=3, padding=1)],\n",
    "      [ResBlock(tname+\".input_blocks.1.0\", 320, 1280, 320) ,   SpatialTransformer(tname+\".input_blocks.1.1\" , 320, 768, 8, 40)],\n",
    "      [ResBlock(tname+\".input_blocks.2.0\" , 320, 1280, 320), SpatialTransformer(tname+\".input_blocks.2.1\" ,320, 768, 8, 40)],\n",
    "      [Downsample(tname+\".input_blocks.3.0\" ,320)],\n",
    "      [ResBlock(tname+\".input_blocks.4.0\",320, 1280, 640), SpatialTransformer(tname+\".input_blocks.4.1\" ,640, 768, 8, 80)],\n",
    "      [ResBlock(tname+\".input_blocks.5.0\",640, 1280, 640), SpatialTransformer(tname+\".input_blocks.5.1\",640, 768, 8, 80)],\n",
    "      [Downsample(tname+\".input_blocks.6.0\",640)],\n",
    "      [ResBlock(tname+\".input_blocks.7.0\",640, 1280, 1280), SpatialTransformer(tname+\".input_blocks.7.1\",1280, 768, 8, 160)],\n",
    "      [ResBlock(tname+\".input_blocks.8.0\",1280, 1280, 1280), SpatialTransformer(tname+\".input_blocks.8.1\",1280, 768, 8, 160)],\n",
    "      [Downsample(tname+\".input_blocks.9.0\",1280)],\n",
    "      [ResBlock(tname+\".input_blocks.10.0\",1280, 1280, 1280)],\n",
    "      [ResBlock(tname+\".input_blocks.11.0\",1280, 1280, 1280)]\n",
    "    ]\n",
    "    self.middle_block = [\n",
    "      ResBlock(tname+\".middle_block.0\",1280, 1280, 1280),\n",
    "      SpatialTransformer(tname+\".middle_block.1\",1280, 768, 8, 160),\n",
    "      ResBlock(tname+\".middle_block.2\",1280, 1280, 1280)\n",
    "    ]\n",
    "    self.output_blocks = [\n",
    "      [ResBlock(tname+\".output_blocks.0.0\", 2560, 1280, 1280)],\n",
    "      [ResBlock(tname+\".output_blocks.1.0\",2560, 1280, 1280)],\n",
    "      [ResBlock(tname+\".output_blocks.2.0\",2560, 1280, 1280), Upsample(tname+\".output_blocks.2.1\",1280)],\n",
    "      [ResBlock(tname+\".output_blocks.3.0\",2560, 1280, 1280), SpatialTransformer(tname+\".output_blocks.3.1\",1280, 768, 8, 160)],\n",
    "      [ResBlock(tname+\".output_blocks.4.0\",2560, 1280, 1280), SpatialTransformer(tname+\".output_blocks.4.1\",1280, 768, 8, 160)],\n",
    "      [ResBlock(tname+\".output_blocks.5.0\",1920, 1280, 1280), SpatialTransformer(tname+\".output_blocks.5.1\",1280, 768, 8, 160), Upsample(tname+\".output_blocks.5.2\",1280)],\n",
    "      [ResBlock(tname+\".output_blocks.6.0\",1920, 1280, 640), SpatialTransformer(tname+\".output_blocks.6.1\",640, 768, 8, 80)],  # 6\n",
    "      [ResBlock(tname+\".output_blocks.7.0\",1280, 1280, 640), SpatialTransformer(tname+\".output_blocks.7.1\",640, 768, 8, 80)],\n",
    "      [ResBlock(tname+\".output_blocks.8.0\",960, 1280, 640), SpatialTransformer(tname+\".output_blocks.8.1\",640, 768, 8, 80), Upsample(tname+\".output_blocks.8.2\",640)],\n",
    "      [ResBlock(tname+\".output_blocks.9.0\",960, 1280, 320), SpatialTransformer(tname+\".output_blocks.9.1\",320, 768, 8, 40)],\n",
    "      [ResBlock(tname+\".output_blocks.10.0\",640, 1280, 320), SpatialTransformer(tname+\".output_blocks.10.1\",320, 768, 8, 40)],\n",
    "      [ResBlock(tname+\".output_blocks.11.0\",640, 1280, 320), SpatialTransformer(tname+\".output_blocks.11.1\",320, 768, 8, 40)],\n",
    "    ]\n",
    "    self.out = [\n",
    "      tfa.layers.GroupNormalization(epsilon=1e-5 , weights=[\n",
    "        weights['state_dict'][tname+\".out.0.weight\"],\n",
    "        weights['state_dict'][tname+\".out.0.bias\"]\n",
    "      ]),\n",
    "        \n",
    "      tf.keras.activations.swish,\n",
    "      get_conv2d(tname+\".out.2\", 320, 4, kernel_size=3, padding=1)\n",
    "    ]\n",
    "\n",
    "  def __call__(self, inputs, training=False):\n",
    "    # TODO: real time embedding\n",
    "    [x,t_emb,context] = inputs\n",
    "    emb = apply_seq(t_emb, self.time_embed)\n",
    "\n",
    "    def run(x, bb):\n",
    "      if isinstance(bb, ResBlock): x = bb([x, emb])\n",
    "      elif isinstance(bb, SpatialTransformer): x = bb([x, context])\n",
    "      else: x = bb(x)\n",
    "      return x\n",
    "\n",
    "    saved_inputs = []\n",
    "    for i,b in enumerate(self.input_blocks):\n",
    "      for bb in b:\n",
    "        inppp = x\n",
    "        x = run(x, bb)\n",
    "      saved_inputs.append(x)\n",
    "    \n",
    "    for bb in self.middle_block:\n",
    "      x = run(x, bb)\n",
    "\n",
    "    for i,b in enumerate(self.output_blocks):\n",
    "      x = tf.concat([x , saved_inputs.pop()] , axis=-1) \n",
    "      for bb in b:\n",
    "        x = run(x, bb)\n",
    "    return apply_seq(x , self.out)\n",
    "\n"
   ]
  },
  {
   "cell_type": "code",
   "execution_count": null,
   "id": "246be575",
   "metadata": {},
   "outputs": [],
   "source": []
  },
  {
   "cell_type": "code",
   "execution_count": null,
   "id": "03ab5680",
   "metadata": {},
   "outputs": [],
   "source": []
  },
  {
   "cell_type": "code",
   "execution_count": 51,
   "id": "7c2bb55f",
   "metadata": {},
   "outputs": [],
   "source": [
    "class AttnBlock(tf.keras.layers.Layer):\n",
    "  def __init__(self, tname , in_channels):\n",
    "    super(AttnBlock, self).__init__()\n",
    "    self.norm = tfa.layers.GroupNormalization(epsilon=1e-5 , weights=[\n",
    "        weights['state_dict'][tname+\".norm.weight\"],\n",
    "        weights['state_dict'][tname+\".norm.bias\"]\n",
    "      ])\n",
    "    self.q = get_conv2d(tname+\".q\" , in_channels, in_channels, 1)\n",
    "    self.k = get_conv2d(tname+\".k\" , in_channels, in_channels, 1)\n",
    "    self.v = get_conv2d(tname+\".v\" , in_channels, in_channels, 1)\n",
    "    self.proj_out = get_conv2d(tname+\".proj_out\" ,in_channels, in_channels, 1)\n",
    "\n",
    "  # copied from AttnBlock in ldm repo\n",
    "  def __call__(self, x):\n",
    "    h_ = self.norm(x)\n",
    "    q,k,v = self.q(h_), self.k(h_), self.v(h_)\n",
    "\n",
    "    # compute attention\n",
    "    b, h,w, c = q.shape\n",
    "    q = tf.reshape(q , (-1 ,h*w , c ))# b,hw,c\n",
    "    k = tf.keras.layers.Permute((3,1,2))(k)\n",
    "    k = tf.reshape(k , (-1,c,h*w)) # b,c,hw\n",
    "    w_ = q @ k\n",
    "    w_ = w_ * (c**(-0.5))\n",
    "    w_ = tf.keras.activations.softmax (w_)\n",
    "    \n",
    "\n",
    "\n",
    "    # attend to values\n",
    "    v = tf.keras.layers.Permute((3,1,2))(v)\n",
    "    v = tf.reshape(v , (-1,c,h*w))\n",
    "    w_ = tf.keras.layers.Permute((2,1))( w_)\n",
    "    h_ = v @ w_\n",
    "    h_ = tf.keras.layers.Permute((2,1))(h_)\n",
    "    h_ = tf.reshape(h_, (-1,h,w,c))\n",
    "    return x + self.proj_out(h_)"
   ]
  },
  {
   "cell_type": "code",
   "execution_count": 52,
   "id": "b9a4b791",
   "metadata": {},
   "outputs": [],
   "source": [
    "class ResnetBlock(tf.keras.layers.Layer):\n",
    "  def __init__(self, tname ,  in_channels, out_channels=None):\n",
    "    super(ResnetBlock, self).__init__()\n",
    "    self.norm1 = tfa.layers.GroupNormalization(epsilon=1e-5 , weights=[\n",
    "        weights['state_dict'][tname+\".norm1.weight\"],\n",
    "        weights['state_dict'][tname+\".norm1.bias\"]\n",
    "      ])\n",
    "    self.conv1 = get_conv2d(tname+\".conv1\", in_channels, out_channels, 3, padding=1)\n",
    "    self.norm2 = tfa.layers.GroupNormalization(epsilon=1e-5 , weights=[\n",
    "        weights['state_dict'][tname+\".norm2.weight\"],\n",
    "        weights['state_dict'][tname+\".norm2.bias\"]\n",
    "      ])\n",
    "    self.conv2 = get_conv2d(tname+\".conv2\",out_channels, out_channels, 3, padding=1)\n",
    "    self.nin_shortcut = get_conv2d(tname+\".nin_shortcut\", in_channels, out_channels, 1) if in_channels != out_channels else lambda x: x\n",
    "\n",
    "  def __call__(self, x):\n",
    "    h = self.conv1(tf.keras.activations.swish(self.norm1(x)) )\n",
    "    h = self.conv2(tf.keras.activations.swish(self.norm2(h)) )\n",
    "    return self.nin_shortcut(x) + h\n"
   ]
  },
  {
   "cell_type": "code",
   "execution_count": 53,
   "id": "bdd1bf15",
   "metadata": {},
   "outputs": [],
   "source": [
    "class Mid(tf.keras.layers.Layer):\n",
    "  def __init__(self, tname , block_in):\n",
    "    super(Mid, self).__init__()\n",
    "    self.block_1 = ResnetBlock(tname+\".block_1\" , block_in, block_in)\n",
    "    self.attn_1 = AttnBlock(tname+\".attn_1\" ,block_in)\n",
    "    self.block_2 = ResnetBlock(tname+\".block_2\" , block_in, block_in)\n",
    "\n",
    "  def __call__(self, x):\n",
    "    return apply_seq(x , [self.block_1, self.attn_1, self.block_2])\n"
   ]
  },
  {
   "cell_type": "code",
   "execution_count": 54,
   "id": "fc3e0855",
   "metadata": {},
   "outputs": [],
   "source": [
    "class Decoder(tf.keras.models.Model):\n",
    "  def __init__(self, tname ):\n",
    "    super(Decoder, self).__init__()\n",
    "    sz = [(128, 256), (256, 512), (512, 512), (512, 512)]\n",
    "    self.conv_in = get_conv2d( tname+\".conv_in\" ,  4,512,3, padding=1)\n",
    "    self.mid = Mid(tname+\".mid\" , 512)\n",
    "    self.upp = tf.keras.layers.UpSampling2D(size=(2, 2))\n",
    "    \n",
    "    self.post_quant_conv = get_conv2d(\"first_stage_model.post_quant_conv\" , 4, 4, 1)\n",
    "\n",
    "    arr = []\n",
    "    for i,s in enumerate(sz):\n",
    "      arr.append({\"block\":\n",
    "        [ResnetBlock( tname + \".up.%d.block.0\"%i , s[1], s[0]),\n",
    "         ResnetBlock( tname + \".up.%d.block.1\"%i , s[0], s[0]),\n",
    "         ResnetBlock( tname + \".up.%d.block.2\"%i , s[0], s[0])]})\n",
    "      if i != 0: arr[-1]['upsample'] = {\"conv\": get_conv2d( tname + \".up.%d.upsample.conv\"%i , s[0], s[0], 3, padding=1)}\n",
    "    self.up = arr\n",
    "\n",
    "    self.norm_out = tfa.layers.GroupNormalization(epsilon=1e-5 , weights=[\n",
    "        weights['state_dict'][tname+\".norm_out.weight\"],\n",
    "        weights['state_dict'][tname+\".norm_out.bias\"]\n",
    "      ])\n",
    "    self.conv_out = get_conv2d(tname+ \".conv_out\" , 128, 3, 3, padding=1)\n",
    "\n",
    "  def __call__(self, x, training=False):\n",
    "    \n",
    "    x = self.post_quant_conv(1/0.18215 * x)\n",
    "\n",
    "    x = self.conv_in(x)\n",
    "    x = self.mid(x)\n",
    "\n",
    "    for l in self.up[::-1]:\n",
    "      for b in l['block']: x = b(x)\n",
    "      if 'upsample' in l:\n",
    "        # https://pytorch.org/docs/stable/generated/torch.nn.functional.interpolate.html ?\n",
    "        bs,c,py,px = x.shape\n",
    "        x = self.upp(x)\n",
    "        x = l['upsample']['conv'](x)\n",
    "\n",
    "    return self.conv_out(tf.keras.activations.swish (self.norm_out(x)) )\n"
   ]
  },
  {
   "cell_type": "code",
   "execution_count": null,
   "id": "7ff9d009",
   "metadata": {},
   "outputs": [],
   "source": []
  },
  {
   "cell_type": "code",
   "execution_count": null,
   "id": "8d39b07e",
   "metadata": {},
   "outputs": [],
   "source": []
  },
  {
   "cell_type": "code",
   "execution_count": null,
   "id": "86808f40",
   "metadata": {},
   "outputs": [],
   "source": []
  },
  {
   "cell_type": "code",
   "execution_count": 55,
   "id": "e5347c6f",
   "metadata": {},
   "outputs": [],
   "source": [
    "# init the model\n"
   ]
  },
  {
   "cell_type": "code",
   "execution_count": 58,
   "id": "d976abba",
   "metadata": {},
   "outputs": [],
   "source": [
    "text_max_len = 77\n",
    "\n",
    "\n",
    "def get_text_enc():\n",
    "    input_word_ids = tf.keras.layers.Input( #intentinally using keas. rather than tf.keras. becasue of some stupid bug in tfhub and pyinstaller \n",
    "            shape=(text_max_len,), dtype=tf.int32)\n",
    "    input_pos_ids = tf.keras.layers.Input( #intentinally using keas. rather than tf.keras. becasue of some stupid bug in tfhub and pyinstaller \n",
    "            shape=(text_max_len,), dtype=tf.int32)\n",
    "    embeds = CLIPTextTransformer('cond_stage_model.transformer.text_model')([input_word_ids, input_pos_ids])\n",
    "    return tf.keras.models.Model([input_word_ids,input_pos_ids] , embeds)\n",
    "\n",
    "def get_unet():\n",
    "    context = tf.keras.layers.Input((text_max_len,768))\n",
    "    t_emb = tf.keras.layers.Input((320,))\n",
    "    latent = tf.keras.layers.Input((64,64,4))\n",
    "    unet = UNetModel(\"model.diffusion_model\")\n",
    "\n",
    "    return tf.keras.models.Model([latent , t_emb, context ] , unet([latent , t_emb, context]))\n",
    "    \n",
    "def get_decoder():\n",
    "    latent = tf.keras.layers.Input((64,64,4))\n",
    "    decoder = Decoder(\"first_stage_model.decoder\")\n",
    "    return tf.keras.models.Model(latent , decoder(latent))\n",
    "    \n"
   ]
  },
  {
   "cell_type": "code",
   "execution_count": null,
   "id": "a197189c",
   "metadata": {},
   "outputs": [],
   "source": []
  },
  {
   "cell_type": "code",
   "execution_count": 59,
   "id": "bbccaa7f",
   "metadata": {},
   "outputs": [],
   "source": [
    "text_encoder = get_text_enc()\n",
    "unet = get_unet()\n",
    "decoder = get_decoder()"
   ]
  },
  {
   "cell_type": "code",
   "execution_count": 60,
   "id": "d43f6de5",
   "metadata": {},
   "outputs": [],
   "source": [
    "unet.save_weights(\"/tmp/unet.h5\")\n",
    "decoder.save_weights(\"/tmp/decoder.h5\")\n",
    "text_encoder.save_weights(\"/tmp/text_encoder.h5\")"
   ]
  },
  {
   "cell_type": "code",
   "execution_count": 34,
   "id": "ebba3432",
   "metadata": {},
   "outputs": [],
   "source": []
  },
  {
   "cell_type": "code",
   "execution_count": null,
   "id": "44ad304b",
   "metadata": {},
   "outputs": [],
   "source": []
  },
  {
   "cell_type": "code",
   "execution_count": 66,
   "id": "e0e19191",
   "metadata": {
    "scrolled": true
   },
   "outputs": [],
   "source": [
    "from transformers import CLIPTokenizer\n",
    "tokenizer = CLIPTokenizer.from_pretrained(\"openai/clip-vit-base-patch32\")"
   ]
  },
  {
   "cell_type": "code",
   "execution_count": 67,
   "id": "e6f8b4e3",
   "metadata": {},
   "outputs": [],
   "source": [
    "\n",
    "\n",
    "inputs = tokenizer([\"an astronaut riding a hourse\"], padding=True)\n",
    "\n"
   ]
  },
  {
   "cell_type": "code",
   "execution_count": 68,
   "id": "7171475a",
   "metadata": {},
   "outputs": [],
   "source": [
    "batch_size = 1"
   ]
  },
  {
   "cell_type": "code",
   "execution_count": 70,
   "id": "ed88ef97",
   "metadata": {},
   "outputs": [],
   "source": [
    "pos_ids = tf.convert_to_tensor(np.array(list(range(77)))[None].astype('int32'))\n",
    "pos_ids = np.repeat(pos_ids , batch_size, axis=0)\n"
   ]
  },
  {
   "cell_type": "code",
   "execution_count": null,
   "id": "6c1881f1",
   "metadata": {},
   "outputs": [],
   "source": []
  },
  {
   "cell_type": "code",
   "execution_count": 71,
   "id": "d05c7c9b",
   "metadata": {},
   "outputs": [
    {
     "data": {
      "text/plain": [
       "TensorShape([1, 77, 768])"
      ]
     },
     "execution_count": 71,
     "metadata": {},
     "output_type": "execute_result"
    }
   ],
   "source": [
    "\n",
    "phrase = inputs['input_ids'][0] + [49407]*(77-len(inputs['input_ids'][0]))\n",
    "\n",
    "phrase = np.array(phrase)[None].astype(\"int32\")\n",
    "phrase = np.repeat(phrase , batch_size, axis=0)\n",
    "phrase = tf.convert_to_tensor(phrase)\n",
    "context = text_encoder([phrase,pos_ids])\n",
    "context.shape"
   ]
  },
  {
   "cell_type": "code",
   "execution_count": 72,
   "id": "c9a2f0cc",
   "metadata": {},
   "outputs": [],
   "source": [
    "phrase = [49406, 49407, 49407, 49407, 49407, 49407, 49407, 49407, 49407, 49407, 49407, 49407, 49407, 49407, 49407, 49407, 49407, 49407, 49407, 49407, 49407, 49407, 49407, 49407, 49407, 49407, 49407, 49407, 49407, 49407, 49407, 49407, 49407, 49407, 49407, 49407, 49407, 49407, 49407, 49407, 49407, 49407, 49407, 49407, 49407, 49407, 49407, 49407, 49407, 49407, 49407, 49407, 49407, 49407, 49407, 49407, 49407, 49407, 49407, 49407, 49407, 49407, 49407, 49407, 49407, 49407, 49407, 49407, 49407, 49407, 49407, 49407, 49407, 49407, 49407, 49407, 49407]\n",
    "phrase = np.array(phrase)[None].astype(\"int32\")\n",
    "phrase = np.repeat(phrase , batch_size, axis=0)\n",
    "\n",
    "phrase = tf.convert_to_tensor(phrase)\n",
    "unconditional_context = text_encoder([phrase, pos_ids])"
   ]
  },
  {
   "cell_type": "code",
   "execution_count": 73,
   "id": "14a5b228",
   "metadata": {},
   "outputs": [],
   "source": [
    "\n",
    "def timestep_embedding(timesteps, dim=320, max_period=10000):\n",
    "  half = dim // 2\n",
    "  freqs = np.exp(-math.log(max_period) * np.arange(0, half, dtype=np.float32) / half)\n",
    "  print(freqs.shape)\n",
    "  args = np.array(timesteps) * freqs\n",
    "  embedding = np.concatenate([np.cos(args), np.sin(args)])\n",
    "  return (embedding).reshape(1, -1)"
   ]
  },
  {
   "cell_type": "code",
   "execution_count": null,
   "id": "a3e31424",
   "metadata": {},
   "outputs": [],
   "source": []
  },
  {
   "cell_type": "code",
   "execution_count": 74,
   "id": "b2be335e",
   "metadata": {},
   "outputs": [],
   "source": [
    "def get_model_output(latent, t):\n",
    "    # put into diffuser\n",
    "    timesteps = np.array([t])\n",
    "    t_emb = tf.convert_to_tensor(timestep_embedding(timesteps))\n",
    "    t_emb = np.repeat(t_emb , batch_size, axis=0)\n",
    "\n",
    "    \n",
    "    unconditional_latent = unet([latent, t_emb, unconditional_context])\n",
    "    latent = unet([latent, t_emb, context])\n",
    "    unconditional_guidance_scale = 7.5\n",
    "    e_t = unconditional_latent + unconditional_guidance_scale * (latent - unconditional_latent)\n",
    "    return e_t"
   ]
  },
  {
   "cell_type": "code",
   "execution_count": null,
   "id": "9d451f14",
   "metadata": {},
   "outputs": [],
   "source": []
  },
  {
   "cell_type": "code",
   "execution_count": 75,
   "id": "722af063",
   "metadata": {
    "scrolled": true
   },
   "outputs": [
    {
     "name": "stdout",
     "output_type": "stream",
     "text": [
      "running for [1, 41, 81, 121, 161, 201, 241, 281, 321, 361, 401, 441, 481, 521, 561, 601, 641, 681, 721, 761, 801, 841, 881, 921, 961] timesteps\n"
     ]
    }
   ],
   "source": [
    "TIMESTEPS = int(os.getenv(\"TIMESTEPS\", \"25\"))\n",
    "timesteps = list(np.arange(1, 1000, 1000//TIMESTEPS))\n",
    "print(f\"running for {timesteps} timesteps\")"
   ]
  },
  {
   "cell_type": "code",
   "execution_count": 76,
   "id": "57d9816b",
   "metadata": {},
   "outputs": [],
   "source": [
    "alphas_cumprod = weights['state_dict']['alphas_cumprod'].numpy()"
   ]
  },
  {
   "cell_type": "code",
   "execution_count": null,
   "id": "0a698e47",
   "metadata": {},
   "outputs": [],
   "source": []
  },
  {
   "cell_type": "code",
   "execution_count": 77,
   "id": "60c30cec",
   "metadata": {},
   "outputs": [],
   "source": [
    "alphas = [alphas_cumprod[t] for t in timesteps]\n",
    "alphas_prev = [1.0] + alphas[:-1]"
   ]
  },
  {
   "cell_type": "code",
   "execution_count": 78,
   "id": "681259b8",
   "metadata": {},
   "outputs": [],
   "source": [
    "def get_x_prev_and_pred_x0(x, e_t, index):\n",
    "    temperature = 1\n",
    "    a_t, a_prev = alphas[index], alphas_prev[index]\n",
    "    sigma_t = 0\n",
    "    sqrt_one_minus_at = math.sqrt(1-a_t)\n",
    "    #print(a_t, a_prev, sigma_t, sqrt_one_minus_at)\n",
    "\n",
    "    pred_x0 = (x - sqrt_one_minus_at * e_t) / math.sqrt(a_t)\n",
    "\n",
    "    # direction pointing to x_t\n",
    "    dir_xt = math.sqrt(1. - a_prev - sigma_t**2) * e_t\n",
    "    noise = sigma_t *  tf.random.normal(x.shape) * temperature\n",
    "\n",
    "    x_prev = math.sqrt(a_prev) * pred_x0 + dir_xt #+ noise\n",
    "    return x_prev, pred_x0"
   ]
  },
  {
   "cell_type": "code",
   "execution_count": 79,
   "id": "9279713e",
   "metadata": {},
   "outputs": [],
   "source": [
    "latent = tf.random.normal((batch_size,64,64,4))"
   ]
  },
  {
   "cell_type": "code",
   "execution_count": 80,
   "id": "3e622e3c",
   "metadata": {},
   "outputs": [],
   "source": [
    "from tqdm import tqdm"
   ]
  },
  {
   "cell_type": "code",
   "execution_count": 81,
   "id": "332f01cb",
   "metadata": {
    "scrolled": false
   },
   "outputs": [
    {
     "name": "stderr",
     "output_type": "stream",
     "text": [
      " 24 961:   0%|                                                                              | 0/25 [00:00<?, ?it/s]"
     ]
    },
    {
     "name": "stdout",
     "output_type": "stream",
     "text": [
      "(160,)\n"
     ]
    },
    {
     "name": "stderr",
     "output_type": "stream",
     "text": [
      " 23 921:   4%|██▊                                                                   | 1/25 [00:10<04:09, 10.39s/it]"
     ]
    },
    {
     "name": "stdout",
     "output_type": "stream",
     "text": [
      "(160,)\n"
     ]
    },
    {
     "name": "stderr",
     "output_type": "stream",
     "text": [
      " 22 881:   8%|█████▌                                                                | 2/25 [00:15<02:49,  7.36s/it]"
     ]
    },
    {
     "name": "stdout",
     "output_type": "stream",
     "text": [
      "(160,)\n"
     ]
    },
    {
     "name": "stderr",
     "output_type": "stream",
     "text": [
      " 21 841:  12%|████████▍                                                             | 3/25 [00:19<02:06,  5.76s/it]"
     ]
    },
    {
     "name": "stdout",
     "output_type": "stream",
     "text": [
      "(160,)\n"
     ]
    },
    {
     "name": "stderr",
     "output_type": "stream",
     "text": [
      " 20 801:  16%|███████████▏                                                          | 4/25 [00:23<01:48,  5.17s/it]"
     ]
    },
    {
     "name": "stdout",
     "output_type": "stream",
     "text": [
      "(160,)\n"
     ]
    },
    {
     "name": "stderr",
     "output_type": "stream",
     "text": [
      " 19 761:  20%|██████████████                                                        | 5/25 [00:27<01:34,  4.75s/it]"
     ]
    },
    {
     "name": "stdout",
     "output_type": "stream",
     "text": [
      "(160,)\n"
     ]
    },
    {
     "name": "stderr",
     "output_type": "stream",
     "text": [
      " 18 721:  24%|████████████████▊                                                     | 6/25 [00:31<01:24,  4.47s/it]"
     ]
    },
    {
     "name": "stdout",
     "output_type": "stream",
     "text": [
      "(160,)\n"
     ]
    },
    {
     "name": "stderr",
     "output_type": "stream",
     "text": [
      " 17 681:  28%|███████████████████▌                                                  | 7/25 [00:35<01:18,  4.34s/it]"
     ]
    },
    {
     "name": "stdout",
     "output_type": "stream",
     "text": [
      "(160,)\n"
     ]
    },
    {
     "name": "stderr",
     "output_type": "stream",
     "text": [
      " 16 641:  32%|██████████████████████▍                                               | 8/25 [00:40<01:14,  4.36s/it]"
     ]
    },
    {
     "name": "stdout",
     "output_type": "stream",
     "text": [
      "(160,)\n"
     ]
    },
    {
     "name": "stderr",
     "output_type": "stream",
     "text": [
      " 15 601:  36%|█████████████████████████▏                                            | 9/25 [00:44<01:11,  4.45s/it]"
     ]
    },
    {
     "name": "stdout",
     "output_type": "stream",
     "text": [
      "(160,)\n"
     ]
    },
    {
     "name": "stderr",
     "output_type": "stream",
     "text": [
      " 14 561:  40%|███████████████████████████▌                                         | 10/25 [00:49<01:06,  4.43s/it]"
     ]
    },
    {
     "name": "stdout",
     "output_type": "stream",
     "text": [
      "(160,)\n"
     ]
    },
    {
     "name": "stderr",
     "output_type": "stream",
     "text": [
      " 13 521:  44%|██████████████████████████████▎                                      | 11/25 [00:53<00:59,  4.26s/it]"
     ]
    },
    {
     "name": "stdout",
     "output_type": "stream",
     "text": [
      "(160,)\n"
     ]
    },
    {
     "name": "stderr",
     "output_type": "stream",
     "text": [
      " 12 481:  48%|█████████████████████████████████                                    | 12/25 [00:57<00:56,  4.31s/it]"
     ]
    },
    {
     "name": "stdout",
     "output_type": "stream",
     "text": [
      "(160,)\n"
     ]
    },
    {
     "name": "stderr",
     "output_type": "stream",
     "text": [
      " 11 441:  52%|███████████████████████████████████▉                                 | 13/25 [01:01<00:51,  4.27s/it]"
     ]
    },
    {
     "name": "stdout",
     "output_type": "stream",
     "text": [
      "(160,)\n"
     ]
    },
    {
     "name": "stderr",
     "output_type": "stream",
     "text": [
      " 10 401:  56%|██████████████████████████████████████▋                              | 14/25 [01:06<00:47,  4.29s/it]"
     ]
    },
    {
     "name": "stdout",
     "output_type": "stream",
     "text": [
      "(160,)\n"
     ]
    },
    {
     "name": "stderr",
     "output_type": "stream",
     "text": [
      "  9 361:  60%|█████████████████████████████████████████▍                           | 15/25 [01:09<00:41,  4.16s/it]"
     ]
    },
    {
     "name": "stdout",
     "output_type": "stream",
     "text": [
      "(160,)\n"
     ]
    },
    {
     "name": "stderr",
     "output_type": "stream",
     "text": [
      "  8 321:  64%|████████████████████████████████████████████▏                        | 16/25 [01:13<00:37,  4.14s/it]"
     ]
    },
    {
     "name": "stdout",
     "output_type": "stream",
     "text": [
      "(160,)\n"
     ]
    },
    {
     "name": "stderr",
     "output_type": "stream",
     "text": [
      "  7 281:  68%|██████████████████████████████████████████████▉                      | 17/25 [01:17<00:32,  4.07s/it]"
     ]
    },
    {
     "name": "stdout",
     "output_type": "stream",
     "text": [
      "(160,)\n"
     ]
    },
    {
     "name": "stderr",
     "output_type": "stream",
     "text": [
      "  6 241:  72%|█████████████████████████████████████████████████▋                   | 18/25 [01:21<00:28,  4.07s/it]"
     ]
    },
    {
     "name": "stdout",
     "output_type": "stream",
     "text": [
      "(160,)\n"
     ]
    },
    {
     "name": "stderr",
     "output_type": "stream",
     "text": [
      "  5 201:  76%|████████████████████████████████████████████████████▍                | 19/25 [01:26<00:25,  4.31s/it]"
     ]
    },
    {
     "name": "stdout",
     "output_type": "stream",
     "text": [
      "(160,)\n"
     ]
    },
    {
     "name": "stderr",
     "output_type": "stream",
     "text": [
      "  4 161:  80%|███████████████████████████████████████████████████████▏             | 20/25 [01:32<00:23,  4.74s/it]"
     ]
    },
    {
     "name": "stdout",
     "output_type": "stream",
     "text": [
      "(160,)\n"
     ]
    },
    {
     "name": "stderr",
     "output_type": "stream",
     "text": [
      "  3 121:  84%|█████████████████████████████████████████████████████████▉           | 21/25 [01:38<00:19,  5.00s/it]"
     ]
    },
    {
     "name": "stdout",
     "output_type": "stream",
     "text": [
      "(160,)\n"
     ]
    },
    {
     "name": "stderr",
     "output_type": "stream",
     "text": [
      "  2  81:  88%|████████████████████████████████████████████████████████████▋        | 22/25 [01:42<00:14,  4.82s/it]"
     ]
    },
    {
     "name": "stdout",
     "output_type": "stream",
     "text": [
      "(160,)\n"
     ]
    },
    {
     "name": "stderr",
     "output_type": "stream",
     "text": [
      "  1  41:  92%|███████████████████████████████████████████████████████████████▍     | 23/25 [01:46<00:09,  4.65s/it]"
     ]
    },
    {
     "name": "stdout",
     "output_type": "stream",
     "text": [
      "(160,)\n"
     ]
    },
    {
     "name": "stderr",
     "output_type": "stream",
     "text": [
      "  0   1:  96%|██████████████████████████████████████████████████████████████████▏  | 24/25 [01:50<00:04,  4.44s/it]"
     ]
    },
    {
     "name": "stdout",
     "output_type": "stream",
     "text": [
      "(160,)\n"
     ]
    },
    {
     "name": "stderr",
     "output_type": "stream",
     "text": [
      "  0   1: 100%|█████████████████████████████████████████████████████████████████████| 25/25 [01:54<00:00,  4.58s/it]\n"
     ]
    }
   ],
   "source": [
    "for index, timestep in (t:=tqdm(list(enumerate(timesteps))[::-1])):\n",
    "    t.set_description(\"%3d %3d\" % (index, timestep))\n",
    "    e_t = get_model_output(latent, timestep)\n",
    "    x_prev, pred_x0 = get_x_prev_and_pred_x0(latent, e_t, index)\n",
    "    latent = x_prev\n"
   ]
  },
  {
   "cell_type": "code",
   "execution_count": 82,
   "id": "30f061f1",
   "metadata": {},
   "outputs": [],
   "source": [
    "decoded = decoder(latent)"
   ]
  },
  {
   "cell_type": "code",
   "execution_count": 83,
   "id": "15ac4713",
   "metadata": {
    "scrolled": false
   },
   "outputs": [
    {
     "data": {
      "text/plain": [
       "<matplotlib.image.AxesImage at 0x110abf040>"
      ]
     },
     "execution_count": 83,
     "metadata": {},
     "output_type": "execute_result"
    },
    {
     "data": {
      "image/png": "[encoded data removed]",
      "text/plain": [
       "<Figure size 432x288 with 1 Axes>"
      ]
     },
     "metadata": {
      "needs_background": "light"
     },
     "output_type": "display_data"
    }
   ],
   "source": [
    "plt.imshow(np.clip((decoded[0].numpy()+1)/2, 0 , 1 ))"
   ]
  },
  {
   "cell_type": "code",
   "execution_count": 84,
   "id": "1e0f5df1",
   "metadata": {
    "scrolled": false
   },
   "outputs": [
    {
     "ename": "InvalidArgumentError",
     "evalue": "slice index 1 of dimension 0 out of bounds. [Op:StridedSlice] name: strided_slice/",
     "output_type": "error",
     "traceback": [
      "\u001b[0;31m---------------------------------------------------------------------------\u001b[0m",
      "\u001b[0;31mInvalidArgumentError\u001b[0m                      Traceback (most recent call last)",
      "Input \u001b[0;32mIn [84]\u001b[0m, in \u001b[0;36m<cell line: 1>\u001b[0;34m()\u001b[0m\n\u001b[0;32m----> 1\u001b[0m plt\u001b[38;5;241m.\u001b[39mimshow(np\u001b[38;5;241m.\u001b[39mclip((\u001b[43mdecoded\u001b[49m\u001b[43m[\u001b[49m\u001b[38;5;241;43m1\u001b[39;49m\u001b[43m]\u001b[49m\u001b[38;5;241m.\u001b[39mnumpy()\u001b[38;5;241m+\u001b[39m\u001b[38;5;241m1\u001b[39m)\u001b[38;5;241m/\u001b[39m\u001b[38;5;241m2\u001b[39m, \u001b[38;5;241m0\u001b[39m , \u001b[38;5;241m1\u001b[39m ))\n",
      "File \u001b[0;32m~/miniforge3/lib/python3.9/site-packages/tensorflow/python/util/dispatch.py:206\u001b[0m, in \u001b[0;36madd_dispatch_support.<locals>.wrapper\u001b[0;34m(*args, **kwargs)\u001b[0m\n\u001b[1;32m    204\u001b[0m \u001b[38;5;124;03m\"\"\"Call target, and fall back on dispatchers if there is a TypeError.\"\"\"\u001b[39;00m\n\u001b[1;32m    205\u001b[0m \u001b[38;5;28;01mtry\u001b[39;00m:\n\u001b[0;32m--> 206\u001b[0m   \u001b[38;5;28;01mreturn\u001b[39;00m \u001b[43mtarget\u001b[49m\u001b[43m(\u001b[49m\u001b[38;5;241;43m*\u001b[39;49m\u001b[43margs\u001b[49m\u001b[43m,\u001b[49m\u001b[43m \u001b[49m\u001b[38;5;241;43m*\u001b[39;49m\u001b[38;5;241;43m*\u001b[39;49m\u001b[43mkwargs\u001b[49m\u001b[43m)\u001b[49m\n\u001b[1;32m    207\u001b[0m \u001b[38;5;28;01mexcept\u001b[39;00m (\u001b[38;5;167;01mTypeError\u001b[39;00m, \u001b[38;5;167;01mValueError\u001b[39;00m):\n\u001b[1;32m    208\u001b[0m   \u001b[38;5;66;03m# Note: convert_to_eager_tensor currently raises a ValueError, not a\u001b[39;00m\n\u001b[1;32m    209\u001b[0m   \u001b[38;5;66;03m# TypeError, when given unexpected types.  So we need to catch both.\u001b[39;00m\n\u001b[1;32m    210\u001b[0m   result \u001b[38;5;241m=\u001b[39m dispatch(wrapper, args, kwargs)\n",
      "File \u001b[0;32m~/miniforge3/lib/python3.9/site-packages/tensorflow/python/ops/array_ops.py:1041\u001b[0m, in \u001b[0;36m_slice_helper\u001b[0;34m(tensor, slice_spec, var)\u001b[0m\n\u001b[1;32m   1039\u001b[0m   var_empty \u001b[38;5;241m=\u001b[39m constant([], dtype\u001b[38;5;241m=\u001b[39mdtypes\u001b[38;5;241m.\u001b[39mint32)\n\u001b[1;32m   1040\u001b[0m   packed_begin \u001b[38;5;241m=\u001b[39m packed_end \u001b[38;5;241m=\u001b[39m packed_strides \u001b[38;5;241m=\u001b[39m var_empty\n\u001b[0;32m-> 1041\u001b[0m \u001b[38;5;28;01mreturn\u001b[39;00m \u001b[43mstrided_slice\u001b[49m\u001b[43m(\u001b[49m\n\u001b[1;32m   1042\u001b[0m \u001b[43m    \u001b[49m\u001b[43mtensor\u001b[49m\u001b[43m,\u001b[49m\n\u001b[1;32m   1043\u001b[0m \u001b[43m    \u001b[49m\u001b[43mpacked_begin\u001b[49m\u001b[43m,\u001b[49m\n\u001b[1;32m   1044\u001b[0m \u001b[43m    \u001b[49m\u001b[43mpacked_end\u001b[49m\u001b[43m,\u001b[49m\n\u001b[1;32m   1045\u001b[0m \u001b[43m    \u001b[49m\u001b[43mpacked_strides\u001b[49m\u001b[43m,\u001b[49m\n\u001b[1;32m   1046\u001b[0m \u001b[43m    \u001b[49m\u001b[43mbegin_mask\u001b[49m\u001b[38;5;241;43m=\u001b[39;49m\u001b[43mbegin_mask\u001b[49m\u001b[43m,\u001b[49m\n\u001b[1;32m   1047\u001b[0m \u001b[43m    \u001b[49m\u001b[43mend_mask\u001b[49m\u001b[38;5;241;43m=\u001b[39;49m\u001b[43mend_mask\u001b[49m\u001b[43m,\u001b[49m\n\u001b[1;32m   1048\u001b[0m \u001b[43m    \u001b[49m\u001b[43mshrink_axis_mask\u001b[49m\u001b[38;5;241;43m=\u001b[39;49m\u001b[43mshrink_axis_mask\u001b[49m\u001b[43m,\u001b[49m\n\u001b[1;32m   1049\u001b[0m \u001b[43m    \u001b[49m\u001b[43mnew_axis_mask\u001b[49m\u001b[38;5;241;43m=\u001b[39;49m\u001b[43mnew_axis_mask\u001b[49m\u001b[43m,\u001b[49m\n\u001b[1;32m   1050\u001b[0m \u001b[43m    \u001b[49m\u001b[43mellipsis_mask\u001b[49m\u001b[38;5;241;43m=\u001b[39;49m\u001b[43mellipsis_mask\u001b[49m\u001b[43m,\u001b[49m\n\u001b[1;32m   1051\u001b[0m \u001b[43m    \u001b[49m\u001b[43mvar\u001b[49m\u001b[38;5;241;43m=\u001b[39;49m\u001b[43mvar\u001b[49m\u001b[43m,\u001b[49m\n\u001b[1;32m   1052\u001b[0m \u001b[43m    \u001b[49m\u001b[43mname\u001b[49m\u001b[38;5;241;43m=\u001b[39;49m\u001b[43mname\u001b[49m\u001b[43m)\u001b[49m\n",
      "File \u001b[0;32m~/miniforge3/lib/python3.9/site-packages/tensorflow/python/util/dispatch.py:206\u001b[0m, in \u001b[0;36madd_dispatch_support.<locals>.wrapper\u001b[0;34m(*args, **kwargs)\u001b[0m\n\u001b[1;32m    204\u001b[0m \u001b[38;5;124;03m\"\"\"Call target, and fall back on dispatchers if there is a TypeError.\"\"\"\u001b[39;00m\n\u001b[1;32m    205\u001b[0m \u001b[38;5;28;01mtry\u001b[39;00m:\n\u001b[0;32m--> 206\u001b[0m   \u001b[38;5;28;01mreturn\u001b[39;00m \u001b[43mtarget\u001b[49m\u001b[43m(\u001b[49m\u001b[38;5;241;43m*\u001b[39;49m\u001b[43margs\u001b[49m\u001b[43m,\u001b[49m\u001b[43m \u001b[49m\u001b[38;5;241;43m*\u001b[39;49m\u001b[38;5;241;43m*\u001b[39;49m\u001b[43mkwargs\u001b[49m\u001b[43m)\u001b[49m\n\u001b[1;32m    207\u001b[0m \u001b[38;5;28;01mexcept\u001b[39;00m (\u001b[38;5;167;01mTypeError\u001b[39;00m, \u001b[38;5;167;01mValueError\u001b[39;00m):\n\u001b[1;32m    208\u001b[0m   \u001b[38;5;66;03m# Note: convert_to_eager_tensor currently raises a ValueError, not a\u001b[39;00m\n\u001b[1;32m    209\u001b[0m   \u001b[38;5;66;03m# TypeError, when given unexpected types.  So we need to catch both.\u001b[39;00m\n\u001b[1;32m    210\u001b[0m   result \u001b[38;5;241m=\u001b[39m dispatch(wrapper, args, kwargs)\n",
      "File \u001b[0;32m~/miniforge3/lib/python3.9/site-packages/tensorflow/python/ops/array_ops.py:1214\u001b[0m, in \u001b[0;36mstrided_slice\u001b[0;34m(input_, begin, end, strides, begin_mask, end_mask, ellipsis_mask, new_axis_mask, shrink_axis_mask, var, name)\u001b[0m\n\u001b[1;32m   1211\u001b[0m \u001b[38;5;28;01mif\u001b[39;00m strides \u001b[38;5;129;01mis\u001b[39;00m \u001b[38;5;28;01mNone\u001b[39;00m:\n\u001b[1;32m   1212\u001b[0m   strides \u001b[38;5;241m=\u001b[39m ones_like(begin)\n\u001b[0;32m-> 1214\u001b[0m op \u001b[38;5;241m=\u001b[39m \u001b[43mgen_array_ops\u001b[49m\u001b[38;5;241;43m.\u001b[39;49m\u001b[43mstrided_slice\u001b[49m\u001b[43m(\u001b[49m\n\u001b[1;32m   1215\u001b[0m \u001b[43m    \u001b[49m\u001b[38;5;28;43minput\u001b[39;49m\u001b[38;5;241;43m=\u001b[39;49m\u001b[43minput_\u001b[49m\u001b[43m,\u001b[49m\n\u001b[1;32m   1216\u001b[0m \u001b[43m    \u001b[49m\u001b[43mbegin\u001b[49m\u001b[38;5;241;43m=\u001b[39;49m\u001b[43mbegin\u001b[49m\u001b[43m,\u001b[49m\n\u001b[1;32m   1217\u001b[0m \u001b[43m    \u001b[49m\u001b[43mend\u001b[49m\u001b[38;5;241;43m=\u001b[39;49m\u001b[43mend\u001b[49m\u001b[43m,\u001b[49m\n\u001b[1;32m   1218\u001b[0m \u001b[43m    \u001b[49m\u001b[43mstrides\u001b[49m\u001b[38;5;241;43m=\u001b[39;49m\u001b[43mstrides\u001b[49m\u001b[43m,\u001b[49m\n\u001b[1;32m   1219\u001b[0m \u001b[43m    \u001b[49m\u001b[43mname\u001b[49m\u001b[38;5;241;43m=\u001b[39;49m\u001b[43mname\u001b[49m\u001b[43m,\u001b[49m\n\u001b[1;32m   1220\u001b[0m \u001b[43m    \u001b[49m\u001b[43mbegin_mask\u001b[49m\u001b[38;5;241;43m=\u001b[39;49m\u001b[43mbegin_mask\u001b[49m\u001b[43m,\u001b[49m\n\u001b[1;32m   1221\u001b[0m \u001b[43m    \u001b[49m\u001b[43mend_mask\u001b[49m\u001b[38;5;241;43m=\u001b[39;49m\u001b[43mend_mask\u001b[49m\u001b[43m,\u001b[49m\n\u001b[1;32m   1222\u001b[0m \u001b[43m    \u001b[49m\u001b[43mellipsis_mask\u001b[49m\u001b[38;5;241;43m=\u001b[39;49m\u001b[43mellipsis_mask\u001b[49m\u001b[43m,\u001b[49m\n\u001b[1;32m   1223\u001b[0m \u001b[43m    \u001b[49m\u001b[43mnew_axis_mask\u001b[49m\u001b[38;5;241;43m=\u001b[39;49m\u001b[43mnew_axis_mask\u001b[49m\u001b[43m,\u001b[49m\n\u001b[1;32m   1224\u001b[0m \u001b[43m    \u001b[49m\u001b[43mshrink_axis_mask\u001b[49m\u001b[38;5;241;43m=\u001b[39;49m\u001b[43mshrink_axis_mask\u001b[49m\u001b[43m)\u001b[49m\n\u001b[1;32m   1226\u001b[0m parent_name \u001b[38;5;241m=\u001b[39m name\n\u001b[1;32m   1228\u001b[0m \u001b[38;5;28;01mif\u001b[39;00m var \u001b[38;5;129;01mis\u001b[39;00m \u001b[38;5;129;01mnot\u001b[39;00m \u001b[38;5;28;01mNone\u001b[39;00m:\n",
      "File \u001b[0;32m~/miniforge3/lib/python3.9/site-packages/tensorflow/python/ops/gen_array_ops.py:10511\u001b[0m, in \u001b[0;36mstrided_slice\u001b[0;34m(input, begin, end, strides, begin_mask, end_mask, ellipsis_mask, new_axis_mask, shrink_axis_mask, name)\u001b[0m\n\u001b[1;32m  10509\u001b[0m   \u001b[38;5;28;01mreturn\u001b[39;00m _result\n\u001b[1;32m  10510\u001b[0m \u001b[38;5;28;01mexcept\u001b[39;00m _core\u001b[38;5;241m.\u001b[39m_NotOkStatusException \u001b[38;5;28;01mas\u001b[39;00m e:\n\u001b[0;32m> 10511\u001b[0m   \u001b[43m_ops\u001b[49m\u001b[38;5;241;43m.\u001b[39;49m\u001b[43mraise_from_not_ok_status\u001b[49m\u001b[43m(\u001b[49m\u001b[43me\u001b[49m\u001b[43m,\u001b[49m\u001b[43m \u001b[49m\u001b[43mname\u001b[49m\u001b[43m)\u001b[49m\n\u001b[1;32m  10512\u001b[0m \u001b[38;5;28;01mexcept\u001b[39;00m _core\u001b[38;5;241m.\u001b[39m_FallbackException:\n\u001b[1;32m  10513\u001b[0m   \u001b[38;5;28;01mpass\u001b[39;00m\n",
      "File \u001b[0;32m~/miniforge3/lib/python3.9/site-packages/tensorflow/python/framework/ops.py:6941\u001b[0m, in \u001b[0;36mraise_from_not_ok_status\u001b[0;34m(e, name)\u001b[0m\n\u001b[1;32m   6939\u001b[0m message \u001b[38;5;241m=\u001b[39m e\u001b[38;5;241m.\u001b[39mmessage \u001b[38;5;241m+\u001b[39m (\u001b[38;5;124m\"\u001b[39m\u001b[38;5;124m name: \u001b[39m\u001b[38;5;124m\"\u001b[39m \u001b[38;5;241m+\u001b[39m name \u001b[38;5;28;01mif\u001b[39;00m name \u001b[38;5;129;01mis\u001b[39;00m \u001b[38;5;129;01mnot\u001b[39;00m \u001b[38;5;28;01mNone\u001b[39;00m \u001b[38;5;28;01melse\u001b[39;00m \u001b[38;5;124m\"\u001b[39m\u001b[38;5;124m\"\u001b[39m)\n\u001b[1;32m   6940\u001b[0m \u001b[38;5;66;03m# pylint: disable=protected-access\u001b[39;00m\n\u001b[0;32m-> 6941\u001b[0m \u001b[43msix\u001b[49m\u001b[38;5;241;43m.\u001b[39;49m\u001b[43mraise_from\u001b[49m\u001b[43m(\u001b[49m\u001b[43mcore\u001b[49m\u001b[38;5;241;43m.\u001b[39;49m\u001b[43m_status_to_exception\u001b[49m\u001b[43m(\u001b[49m\u001b[43me\u001b[49m\u001b[38;5;241;43m.\u001b[39;49m\u001b[43mcode\u001b[49m\u001b[43m,\u001b[49m\u001b[43m \u001b[49m\u001b[43mmessage\u001b[49m\u001b[43m)\u001b[49m\u001b[43m,\u001b[49m\u001b[43m \u001b[49m\u001b[38;5;28;43;01mNone\u001b[39;49;00m\u001b[43m)\u001b[49m\n",
      "File \u001b[0;32m<string>:3\u001b[0m, in \u001b[0;36mraise_from\u001b[0;34m(value, from_value)\u001b[0m\n",
      "\u001b[0;31mInvalidArgumentError\u001b[0m: slice index 1 of dimension 0 out of bounds. [Op:StridedSlice] name: strided_slice/"
     ]
    }
   ],
   "source": [
    "plt.imshow(np.clip((decoded[1].numpy()+1)/2, 0 , 1 ))"
   ]
  },
  {
   "cell_type": "code",
   "execution_count": null,
   "id": "450eabb4",
   "metadata": {},
   "outputs": [],
   "source": []
  },
  {
   "cell_type": "code",
   "execution_count": null,
   "id": "d42f204c",
   "metadata": {},
   "outputs": [],
   "source": []
  },
  {
   "cell_type": "code",
   "execution_count": null,
   "id": "968afc34",
   "metadata": {},
   "outputs": [],
   "source": []
  }
 ],
 "metadata": {
  "kernelspec": {
   "display_name": "Python 3 (ipykernel)",
   "language": "python",
   "name": "python3"
  },
  "language_info": {
   "codemirror_mode": {
    "name": "ipython",
    "version": 3
   },
   "file_extension": ".py",
   "mimetype": "text/x-python",
   "name": "python",
   "nbconvert_exporter": "python",
   "pygments_lexer": "ipython3",
   "version": "3.9.10"
  }
 },
 "nbformat": 4,
 "nbformat_minor": 5
}
